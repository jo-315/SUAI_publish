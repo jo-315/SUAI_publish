{
 "cells": [
  {
   "cell_type": "code",
   "execution_count": 1,
   "metadata": {},
   "outputs": [],
   "source": [
    "import scipy.spatial.distance as distance\n",
    "import numpy as np"
   ]
  },
  {
   "cell_type": "code",
   "execution_count": 45,
   "metadata": {},
   "outputs": [],
   "source": [
    "def k_init(X, n_clusters):\n",
    "    np.random.seed(12345)\n",
    "    \n",
    "    n_samples, n_features = X.shape\n",
    "    \n",
    "    centers = np.empty((n_clusters, n_features), dtype=X.dtype)\n",
    "    \n",
    "    #     最初の点をランダムに選ぶ\n",
    "    center_id = np.random.randint(n_samples)\n",
    "    centers[0] = X[center_id]\n",
    "    \n",
    "    #     最初の中心点からの二乗距離を算出\n",
    "    closest_dist_sq = distance.cdist(X[[center_id]], X, metric=\"sqeuclidean\")\n",
    "    \n",
    "    #     二乗距離の合計を計算\n",
    "    current_pot = closest_dist_sq.sum()\n",
    "    \n",
    "    #     残りの点の中心点を決定\n",
    "    for c in range(1, n_clusters):\n",
    "        \n",
    "        #   最近傍中心点からの二乗距離に基づき中心点を確率的にサンプリング\n",
    "        rand_val = np.random.random_sample(1) * current_pot\n",
    "        center_id = np.searchsorted(np.cumsum(closest_dist_sq), rand_val)\n",
    "\n",
    "        # 各データ点から最近傍中心点までの二乗距離を求める\n",
    "        tmp_dist = distance.cdist(X[center_id], X, metric=\"sqeuclidean\")\n",
    "        closest_dist_sq = np.maximum(closest_dist_sq, tmp_dist)\n",
    "        \n",
    "        # サンプリングされた中心点をcentersに追加\n",
    "        centers[c] = X[center_id]\n",
    "        \n",
    "        current_pot = closest_dist_sq.sum()\n",
    "        \n",
    "    return centers"
   ]
  },
  {
   "cell_type": "code",
   "execution_count": 46,
   "metadata": {},
   "outputs": [
    {
     "name": "stdout",
     "output_type": "stream",
     "text": [
      "2\n",
      "[[-1.  0.]\n",
      " [ 2. -2.]\n",
      " [ 0.  1.]]\n"
     ]
    }
   ],
   "source": [
    "X = np.array([\n",
    "    [0, 0], [1, 0], [-1, 0],\n",
    "    [0, 1], [0, -1], [-1, 1], [-1, -1],\n",
    "    [0, 0.5], [0.5, 0.5], [0.5, 0],\n",
    "    [1, 2], [-1, 2], [-2, -2],\n",
    "    [-3, 3], [-2, 0], [2, -2]\n",
    "])\n",
    "\n",
    "n_clusters = 3\n",
    "centers = k_init(X, n_clusters)\n",
    "print(centers)"
   ]
  },
  {
   "cell_type": "code",
   "execution_count": null,
   "metadata": {},
   "outputs": [],
   "source": []
  }
 ],
 "metadata": {
  "kernelspec": {
   "display_name": "Python 3",
   "language": "python",
   "name": "python3"
  },
  "language_info": {
   "codemirror_mode": {
    "name": "ipython",
    "version": 3
   },
   "file_extension": ".py",
   "mimetype": "text/x-python",
   "name": "python",
   "nbconvert_exporter": "python",
   "pygments_lexer": "ipython3",
   "version": "3.7.6"
  }
 },
 "nbformat": 4,
 "nbformat_minor": 4
}
