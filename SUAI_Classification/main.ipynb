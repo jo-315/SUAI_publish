{
 "cells": [
  {
   "cell_type": "markdown",
   "metadata": {},
   "source": [
    "# 目的変数をstateとする分類問題"
   ]
  },
  {
   "cell_type": "markdown",
   "metadata": {},
   "source": [
    "## DAY1\n",
    "\n",
    "ロジスティック回帰を実際に実装してみる"
   ]
  },
  {
   "cell_type": "code",
   "execution_count": 2,
   "metadata": {},
   "outputs": [],
   "source": [
    "%matplotlib inline\n",
    "import pandas as pd\n",
    "import numpy as np\n",
    "import matplotlib.pyplot as plt\n",
    "from sklearn.linear_model import SGDClassifier"
   ]
  },
  {
   "cell_type": "markdown",
   "metadata": {},
   "source": [
    "## データの読み込み"
   ]
  },
  {
   "cell_type": "code",
   "execution_count": 3,
   "metadata": {},
   "outputs": [
    {
     "data": {
      "text/html": [
       "<div>\n",
       "<style scoped>\n",
       "    .dataframe tbody tr th:only-of-type {\n",
       "        vertical-align: middle;\n",
       "    }\n",
       "\n",
       "    .dataframe tbody tr th {\n",
       "        vertical-align: top;\n",
       "    }\n",
       "\n",
       "    .dataframe thead th {\n",
       "        text-align: right;\n",
       "    }\n",
       "</style>\n",
       "<table border=\"1\" class=\"dataframe\">\n",
       "  <thead>\n",
       "    <tr style=\"text-align: right;\">\n",
       "      <th></th>\n",
       "      <th>ID</th>\n",
       "      <th>name</th>\n",
       "      <th>category</th>\n",
       "      <th>main_category</th>\n",
       "      <th>currency</th>\n",
       "      <th>deadline</th>\n",
       "      <th>goal</th>\n",
       "      <th>launched</th>\n",
       "      <th>pledged</th>\n",
       "      <th>state</th>\n",
       "      <th>backers</th>\n",
       "      <th>country</th>\n",
       "      <th>usd pledged</th>\n",
       "      <th>usd_pledged_real</th>\n",
       "      <th>usd_goal_real</th>\n",
       "    </tr>\n",
       "  </thead>\n",
       "  <tbody>\n",
       "    <tr>\n",
       "      <th>0</th>\n",
       "      <td>1000002330</td>\n",
       "      <td>The Songs of Adelaide &amp; Abullah</td>\n",
       "      <td>Poetry</td>\n",
       "      <td>Publishing</td>\n",
       "      <td>GBP</td>\n",
       "      <td>2015-10-09</td>\n",
       "      <td>1000.0</td>\n",
       "      <td>2015-08-11 12:12:28</td>\n",
       "      <td>0.0</td>\n",
       "      <td>failed</td>\n",
       "      <td>0</td>\n",
       "      <td>GB</td>\n",
       "      <td>0.0</td>\n",
       "      <td>0.0</td>\n",
       "      <td>1533.95</td>\n",
       "    </tr>\n",
       "    <tr>\n",
       "      <th>1</th>\n",
       "      <td>1000003930</td>\n",
       "      <td>Greeting From Earth: ZGAC Arts Capsule For ET</td>\n",
       "      <td>Narrative Film</td>\n",
       "      <td>Film &amp; Video</td>\n",
       "      <td>USD</td>\n",
       "      <td>2017-11-01</td>\n",
       "      <td>30000.0</td>\n",
       "      <td>2017-09-02 04:43:57</td>\n",
       "      <td>2421.0</td>\n",
       "      <td>failed</td>\n",
       "      <td>15</td>\n",
       "      <td>US</td>\n",
       "      <td>100.0</td>\n",
       "      <td>2421.0</td>\n",
       "      <td>30000.00</td>\n",
       "    </tr>\n",
       "    <tr>\n",
       "      <th>2</th>\n",
       "      <td>1000004038</td>\n",
       "      <td>Where is Hank?</td>\n",
       "      <td>Narrative Film</td>\n",
       "      <td>Film &amp; Video</td>\n",
       "      <td>USD</td>\n",
       "      <td>2013-02-26</td>\n",
       "      <td>45000.0</td>\n",
       "      <td>2013-01-12 00:20:50</td>\n",
       "      <td>220.0</td>\n",
       "      <td>failed</td>\n",
       "      <td>3</td>\n",
       "      <td>US</td>\n",
       "      <td>220.0</td>\n",
       "      <td>220.0</td>\n",
       "      <td>45000.00</td>\n",
       "    </tr>\n",
       "    <tr>\n",
       "      <th>3</th>\n",
       "      <td>1000007540</td>\n",
       "      <td>ToshiCapital Rekordz Needs Help to Complete Album</td>\n",
       "      <td>Music</td>\n",
       "      <td>Music</td>\n",
       "      <td>USD</td>\n",
       "      <td>2012-04-16</td>\n",
       "      <td>5000.0</td>\n",
       "      <td>2012-03-17 03:24:11</td>\n",
       "      <td>1.0</td>\n",
       "      <td>failed</td>\n",
       "      <td>1</td>\n",
       "      <td>US</td>\n",
       "      <td>1.0</td>\n",
       "      <td>1.0</td>\n",
       "      <td>5000.00</td>\n",
       "    </tr>\n",
       "    <tr>\n",
       "      <th>4</th>\n",
       "      <td>1000011046</td>\n",
       "      <td>Community Film Project: The Art of Neighborhoo...</td>\n",
       "      <td>Film &amp; Video</td>\n",
       "      <td>Film &amp; Video</td>\n",
       "      <td>USD</td>\n",
       "      <td>2015-08-29</td>\n",
       "      <td>19500.0</td>\n",
       "      <td>2015-07-04 08:35:03</td>\n",
       "      <td>1283.0</td>\n",
       "      <td>canceled</td>\n",
       "      <td>14</td>\n",
       "      <td>US</td>\n",
       "      <td>1283.0</td>\n",
       "      <td>1283.0</td>\n",
       "      <td>19500.00</td>\n",
       "    </tr>\n",
       "  </tbody>\n",
       "</table>\n",
       "</div>"
      ],
      "text/plain": [
       "           ID                                               name  \\\n",
       "0  1000002330                    The Songs of Adelaide & Abullah   \n",
       "1  1000003930      Greeting From Earth: ZGAC Arts Capsule For ET   \n",
       "2  1000004038                                     Where is Hank?   \n",
       "3  1000007540  ToshiCapital Rekordz Needs Help to Complete Album   \n",
       "4  1000011046  Community Film Project: The Art of Neighborhoo...   \n",
       "\n",
       "         category main_category currency    deadline     goal  \\\n",
       "0          Poetry    Publishing      GBP  2015-10-09   1000.0   \n",
       "1  Narrative Film  Film & Video      USD  2017-11-01  30000.0   \n",
       "2  Narrative Film  Film & Video      USD  2013-02-26  45000.0   \n",
       "3           Music         Music      USD  2012-04-16   5000.0   \n",
       "4    Film & Video  Film & Video      USD  2015-08-29  19500.0   \n",
       "\n",
       "              launched  pledged     state  backers country  usd pledged  \\\n",
       "0  2015-08-11 12:12:28      0.0    failed        0      GB          0.0   \n",
       "1  2017-09-02 04:43:57   2421.0    failed       15      US        100.0   \n",
       "2  2013-01-12 00:20:50    220.0    failed        3      US        220.0   \n",
       "3  2012-03-17 03:24:11      1.0    failed        1      US          1.0   \n",
       "4  2015-07-04 08:35:03   1283.0  canceled       14      US       1283.0   \n",
       "\n",
       "   usd_pledged_real  usd_goal_real  \n",
       "0               0.0        1533.95  \n",
       "1            2421.0       30000.00  \n",
       "2             220.0       45000.00  \n",
       "3               1.0        5000.00  \n",
       "4            1283.0       19500.00  "
      ]
     },
     "execution_count": 3,
     "metadata": {},
     "output_type": "execute_result"
    }
   ],
   "source": [
    "df = pd.read_csv(\"./ks-projects-201801.csv\")\n",
    "df.head()"
   ]
  },
  {
   "cell_type": "code",
   "execution_count": 7,
   "metadata": {},
   "outputs": [
    {
     "name": "stdout",
     "output_type": "stream",
     "text": [
      "<class 'pandas.core.frame.DataFrame'>\n",
      "RangeIndex: 378661 entries, 0 to 378660\n",
      "Data columns (total 15 columns):\n",
      " #   Column            Non-Null Count   Dtype  \n",
      "---  ------            --------------   -----  \n",
      " 0   ID                378661 non-null  int64  \n",
      " 1   name              378657 non-null  object \n",
      " 2   category          378661 non-null  object \n",
      " 3   main_category     378661 non-null  object \n",
      " 4   currency          378661 non-null  object \n",
      " 5   deadline          378661 non-null  object \n",
      " 6   goal              378661 non-null  float64\n",
      " 7   launched          378661 non-null  object \n",
      " 8   pledged           378661 non-null  float64\n",
      " 9   state             378661 non-null  object \n",
      " 10  backers           378661 non-null  int64  \n",
      " 11  country           378661 non-null  object \n",
      " 12  usd pledged       374864 non-null  float64\n",
      " 13  usd_pledged_real  378661 non-null  float64\n",
      " 14  usd_goal_real     378661 non-null  float64\n",
      "dtypes: float64(5), int64(2), object(8)\n",
      "memory usage: 43.3+ MB\n"
     ]
    }
   ],
   "source": [
    "df.info()"
   ]
  },
  {
   "cell_type": "code",
   "execution_count": 3,
   "metadata": {},
   "outputs": [
    {
     "data": {
      "text/html": [
       "<div>\n",
       "<style scoped>\n",
       "    .dataframe tbody tr th:only-of-type {\n",
       "        vertical-align: middle;\n",
       "    }\n",
       "\n",
       "    .dataframe tbody tr th {\n",
       "        vertical-align: top;\n",
       "    }\n",
       "\n",
       "    .dataframe thead th {\n",
       "        text-align: right;\n",
       "    }\n",
       "</style>\n",
       "<table border=\"1\" class=\"dataframe\">\n",
       "  <thead>\n",
       "    <tr style=\"text-align: right;\">\n",
       "      <th></th>\n",
       "      <th>ID</th>\n",
       "      <th>goal</th>\n",
       "      <th>pledged</th>\n",
       "      <th>backers</th>\n",
       "      <th>usd pledged</th>\n",
       "      <th>usd_pledged_real</th>\n",
       "      <th>usd_goal_real</th>\n",
       "    </tr>\n",
       "  </thead>\n",
       "  <tbody>\n",
       "    <tr>\n",
       "      <th>count</th>\n",
       "      <td>3.786610e+05</td>\n",
       "      <td>3.786610e+05</td>\n",
       "      <td>3.786610e+05</td>\n",
       "      <td>378661.000000</td>\n",
       "      <td>3.748640e+05</td>\n",
       "      <td>3.786610e+05</td>\n",
       "      <td>3.786610e+05</td>\n",
       "    </tr>\n",
       "    <tr>\n",
       "      <th>mean</th>\n",
       "      <td>1.074731e+09</td>\n",
       "      <td>4.908079e+04</td>\n",
       "      <td>9.682979e+03</td>\n",
       "      <td>105.617476</td>\n",
       "      <td>7.036729e+03</td>\n",
       "      <td>9.058924e+03</td>\n",
       "      <td>4.545440e+04</td>\n",
       "    </tr>\n",
       "    <tr>\n",
       "      <th>std</th>\n",
       "      <td>6.190862e+08</td>\n",
       "      <td>1.183391e+06</td>\n",
       "      <td>9.563601e+04</td>\n",
       "      <td>907.185035</td>\n",
       "      <td>7.863975e+04</td>\n",
       "      <td>9.097334e+04</td>\n",
       "      <td>1.152950e+06</td>\n",
       "    </tr>\n",
       "    <tr>\n",
       "      <th>min</th>\n",
       "      <td>5.971000e+03</td>\n",
       "      <td>1.000000e-02</td>\n",
       "      <td>0.000000e+00</td>\n",
       "      <td>0.000000</td>\n",
       "      <td>0.000000e+00</td>\n",
       "      <td>0.000000e+00</td>\n",
       "      <td>1.000000e-02</td>\n",
       "    </tr>\n",
       "    <tr>\n",
       "      <th>25%</th>\n",
       "      <td>5.382635e+08</td>\n",
       "      <td>2.000000e+03</td>\n",
       "      <td>3.000000e+01</td>\n",
       "      <td>2.000000</td>\n",
       "      <td>1.698000e+01</td>\n",
       "      <td>3.100000e+01</td>\n",
       "      <td>2.000000e+03</td>\n",
       "    </tr>\n",
       "    <tr>\n",
       "      <th>50%</th>\n",
       "      <td>1.075276e+09</td>\n",
       "      <td>5.200000e+03</td>\n",
       "      <td>6.200000e+02</td>\n",
       "      <td>12.000000</td>\n",
       "      <td>3.947200e+02</td>\n",
       "      <td>6.243300e+02</td>\n",
       "      <td>5.500000e+03</td>\n",
       "    </tr>\n",
       "    <tr>\n",
       "      <th>75%</th>\n",
       "      <td>1.610149e+09</td>\n",
       "      <td>1.600000e+04</td>\n",
       "      <td>4.076000e+03</td>\n",
       "      <td>56.000000</td>\n",
       "      <td>3.034090e+03</td>\n",
       "      <td>4.050000e+03</td>\n",
       "      <td>1.550000e+04</td>\n",
       "    </tr>\n",
       "    <tr>\n",
       "      <th>max</th>\n",
       "      <td>2.147476e+09</td>\n",
       "      <td>1.000000e+08</td>\n",
       "      <td>2.033899e+07</td>\n",
       "      <td>219382.000000</td>\n",
       "      <td>2.033899e+07</td>\n",
       "      <td>2.033899e+07</td>\n",
       "      <td>1.663614e+08</td>\n",
       "    </tr>\n",
       "  </tbody>\n",
       "</table>\n",
       "</div>"
      ],
      "text/plain": [
       "                 ID          goal       pledged        backers   usd pledged  \\\n",
       "count  3.786610e+05  3.786610e+05  3.786610e+05  378661.000000  3.748640e+05   \n",
       "mean   1.074731e+09  4.908079e+04  9.682979e+03     105.617476  7.036729e+03   \n",
       "std    6.190862e+08  1.183391e+06  9.563601e+04     907.185035  7.863975e+04   \n",
       "min    5.971000e+03  1.000000e-02  0.000000e+00       0.000000  0.000000e+00   \n",
       "25%    5.382635e+08  2.000000e+03  3.000000e+01       2.000000  1.698000e+01   \n",
       "50%    1.075276e+09  5.200000e+03  6.200000e+02      12.000000  3.947200e+02   \n",
       "75%    1.610149e+09  1.600000e+04  4.076000e+03      56.000000  3.034090e+03   \n",
       "max    2.147476e+09  1.000000e+08  2.033899e+07  219382.000000  2.033899e+07   \n",
       "\n",
       "       usd_pledged_real  usd_goal_real  \n",
       "count      3.786610e+05   3.786610e+05  \n",
       "mean       9.058924e+03   4.545440e+04  \n",
       "std        9.097334e+04   1.152950e+06  \n",
       "min        0.000000e+00   1.000000e-02  \n",
       "25%        3.100000e+01   2.000000e+03  \n",
       "50%        6.243300e+02   5.500000e+03  \n",
       "75%        4.050000e+03   1.550000e+04  \n",
       "max        2.033899e+07   1.663614e+08  "
      ]
     },
     "execution_count": 3,
     "metadata": {},
     "output_type": "execute_result"
    }
   ],
   "source": [
    "df.describe()"
   ]
  },
  {
   "cell_type": "code",
   "execution_count": 9,
   "metadata": {},
   "outputs": [
    {
     "data": {
      "text/plain": [
       "ID                     0\n",
       "name                   4\n",
       "category               0\n",
       "main_category          0\n",
       "currency               0\n",
       "deadline               0\n",
       "goal                   0\n",
       "launched               0\n",
       "pledged                0\n",
       "state                  0\n",
       "backers                0\n",
       "country                0\n",
       "usd pledged         3797\n",
       "usd_pledged_real       0\n",
       "usd_goal_real          0\n",
       "dtype: int64"
      ]
     },
     "execution_count": 9,
     "metadata": {},
     "output_type": "execute_result"
    }
   ],
   "source": [
    "df.isnull().sum()"
   ]
  },
  {
   "cell_type": "markdown",
   "metadata": {},
   "source": [
    "- 目的変数に`state`をセット\n",
    "- とりあえずintのみで計算してみる（欠損の多い`usd pledged`は使わない）"
   ]
  },
  {
   "cell_type": "code",
   "execution_count": 4,
   "metadata": {},
   "outputs": [],
   "source": [
    "y = df[\"state\"].values\n",
    "X_01 = df[[\"goal\", \"pledged\", \"backers\", \"usd_pledged_real\", \"usd_goal_real\"]].values"
   ]
  },
  {
   "cell_type": "code",
   "execution_count": 35,
   "metadata": {},
   "outputs": [
    {
     "data": {
      "text/plain": [
       "array(['canceled', 'failed', 'live', 'successful', 'suspended',\n",
       "       'undefined'], dtype=object)"
      ]
     },
     "execution_count": 35,
     "metadata": {},
     "output_type": "execute_result"
    }
   ],
   "source": [
    "np.unique(y)"
   ]
  },
  {
   "cell_type": "markdown",
   "metadata": {},
   "source": [
    "## ロジスティック回帰を行う"
   ]
  },
  {
   "cell_type": "code",
   "execution_count": 5,
   "metadata": {},
   "outputs": [
    {
     "data": {
      "text/plain": [
       "SGDClassifier(alpha=0.0001, average=False, class_weight=None,\n",
       "              early_stopping=False, epsilon=0.1, eta0=0.0, fit_intercept=True,\n",
       "              l1_ratio=0.15, learning_rate='optimal', loss='log',\n",
       "              max_iter=10000, n_iter_no_change=5, n_jobs=None, penalty='none',\n",
       "              power_t=0.5, random_state=1234, shuffle=True, tol=0.001,\n",
       "              validation_fraction=0.1, verbose=0, warm_start=False)"
      ]
     },
     "execution_count": 5,
     "metadata": {},
     "output_type": "execute_result"
    }
   ],
   "source": [
    "clf = SGDClassifier(\n",
    "    loss = \"log\",\n",
    "    penalty = \"none\",\n",
    "    max_iter = 10000,\n",
    "    fit_intercept=True,\n",
    "    random_state=1234,\n",
    "    tol=1e-3\n",
    ")\n",
    "\n",
    "clf.fit(X_01, y)"
   ]
  },
  {
   "cell_type": "markdown",
   "metadata": {},
   "source": [
    "## 予測精度を得る"
   ]
  },
  {
   "cell_type": "markdown",
   "metadata": {},
   "source": [
    "混合行列の作成"
   ]
  },
  {
   "cell_type": "code",
   "execution_count": 6,
   "metadata": {},
   "outputs": [],
   "source": [
    "from  sklearn.metrics import accuracy_score, precision_recall_fscore_support, confusion_matrix\n",
    "\n",
    "y_pred = clf.predict(X_01)"
   ]
  },
  {
   "cell_type": "markdown",
   "metadata": {},
   "source": [
    "正答率"
   ]
  },
  {
   "cell_type": "code",
   "execution_count": 10,
   "metadata": {},
   "outputs": [
    {
     "name": "stdout",
     "output_type": "stream",
     "text": [
      "正答率（Accuracy） = 62.042%\n"
     ]
    }
   ],
   "source": [
    "accuracy =  accuracy_score(y, y_pred)\n",
    "print('正答率（Accuracy） = {:.3f}%'.format(100 * accuracy))"
   ]
  },
  {
   "cell_type": "markdown",
   "metadata": {},
   "source": [
    "Precision, Recall, F1-score"
   ]
  },
  {
   "cell_type": "code",
   "execution_count": 11,
   "metadata": {},
   "outputs": [
    {
     "name": "stdout",
     "output_type": "stream",
     "text": [
      "適合率（Precision） = 79.734%\n",
      "再現率（Recall） = 42.707%\n",
      "F1値（F1-score） = 55.622%\n"
     ]
    },
    {
     "name": "stderr",
     "output_type": "stream",
     "text": [
      "/Users/kenjoushunsuke/anaconda3/lib/python3.7/site-packages/sklearn/metrics/_classification.py:1272: UndefinedMetricWarning: Precision and F-score are ill-defined and being set to 0.0 in labels with no predicted samples. Use `zero_division` parameter to control this behavior.\n",
      "  _warn_prf(average, modifier, msg_start, len(result))\n"
     ]
    }
   ],
   "source": [
    "precision, recall, f1_score, _ = precision_recall_fscore_support(y, y_pred)\n",
    "\n",
    "print('適合率（Precision） = {:.3f}%'.format(100 * precision[1]))\n",
    "print('再現率（Recall） = {:.3f}%'.format(100 * recall[1]))\n",
    "print('F1値（F1-score） = {:.3f}%'.format(100 * f1_score[1]))"
   ]
  },
  {
   "cell_type": "markdown",
   "metadata": {},
   "source": [
    "混合行列"
   ]
  },
  {
   "cell_type": "code",
   "execution_count": 40,
   "metadata": {},
   "outputs": [
    {
     "data": {
      "text/html": [
       "<div>\n",
       "<style scoped>\n",
       "    .dataframe tbody tr th:only-of-type {\n",
       "        vertical-align: middle;\n",
       "    }\n",
       "\n",
       "    .dataframe tbody tr th {\n",
       "        vertical-align: top;\n",
       "    }\n",
       "\n",
       "    .dataframe thead th {\n",
       "        text-align: right;\n",
       "    }\n",
       "</style>\n",
       "<table border=\"1\" class=\"dataframe\">\n",
       "  <thead>\n",
       "    <tr style=\"text-align: right;\">\n",
       "      <th></th>\n",
       "      <th>予測 = canceled</th>\n",
       "      <th>予測 = failed</th>\n",
       "      <th>予測 = live</th>\n",
       "      <th>予測 = successful</th>\n",
       "      <th>予測 = suspended</th>\n",
       "      <th>予測 = undefined</th>\n",
       "    </tr>\n",
       "  </thead>\n",
       "  <tbody>\n",
       "    <tr>\n",
       "      <th>正解 = canceled</th>\n",
       "      <td>16594</td>\n",
       "      <td>18535</td>\n",
       "      <td>0</td>\n",
       "      <td>3650</td>\n",
       "      <td>0</td>\n",
       "      <td>0</td>\n",
       "    </tr>\n",
       "    <tr>\n",
       "      <th>正解 = failed</th>\n",
       "      <td>96970</td>\n",
       "      <td>84440</td>\n",
       "      <td>0</td>\n",
       "      <td>16309</td>\n",
       "      <td>0</td>\n",
       "      <td>0</td>\n",
       "    </tr>\n",
       "    <tr>\n",
       "      <th>正解 = live</th>\n",
       "      <td>1102</td>\n",
       "      <td>962</td>\n",
       "      <td>0</td>\n",
       "      <td>735</td>\n",
       "      <td>0</td>\n",
       "      <td>0</td>\n",
       "    </tr>\n",
       "    <tr>\n",
       "      <th>正解 = successful</th>\n",
       "      <td>0</td>\n",
       "      <td>0</td>\n",
       "      <td>61</td>\n",
       "      <td>133895</td>\n",
       "      <td>0</td>\n",
       "      <td>0</td>\n",
       "    </tr>\n",
       "    <tr>\n",
       "      <th>正解 = suspended</th>\n",
       "      <td>526</td>\n",
       "      <td>870</td>\n",
       "      <td>0</td>\n",
       "      <td>450</td>\n",
       "      <td>0</td>\n",
       "      <td>0</td>\n",
       "    </tr>\n",
       "    <tr>\n",
       "      <th>正解 = undefined</th>\n",
       "      <td>747</td>\n",
       "      <td>1095</td>\n",
       "      <td>0</td>\n",
       "      <td>1720</td>\n",
       "      <td>0</td>\n",
       "      <td>0</td>\n",
       "    </tr>\n",
       "  </tbody>\n",
       "</table>\n",
       "</div>"
      ],
      "text/plain": [
       "                 予測 = canceled  予測 = failed  予測 = live  予測 = successful  \\\n",
       "正解 = canceled            16594        18535          0             3650   \n",
       "正解 = failed              96970        84440          0            16309   \n",
       "正解 = live                 1102          962          0              735   \n",
       "正解 = successful              0            0         61           133895   \n",
       "正解 = suspended             526          870          0              450   \n",
       "正解 = undefined             747         1095          0             1720   \n",
       "\n",
       "                 予測 = suspended  予測 = undefined  \n",
       "正解 = canceled                 0               0  \n",
       "正解 = failed                   0               0  \n",
       "正解 = live                     0               0  \n",
       "正解 = successful               0               0  \n",
       "正解 = suspended                0               0  \n",
       "正解 = undefined                0               0  "
      ]
     },
     "execution_count": 40,
     "metadata": {},
     "output_type": "execute_result"
    }
   ],
   "source": [
    "conf_mat = confusion_matrix(y, y_pred, labels = ['canceled', 'failed', 'live', 'successful', 'suspended','undefined'])\n",
    "conf_mat = pd.DataFrame(conf_mat,\n",
    "                        index=['正解 = canceled', '正解 = failed', '正解 = live', '正解 = successful', '正解 = suspended', '正解 = undefined'], \n",
    "                        columns=['予測 = canceled', '予測 = failed', '予測 = live', '予測 = successful', '予測 = suspended', '予測 = undefined'])\n",
    "conf_mat"
   ]
  },
  {
   "cell_type": "code",
   "execution_count": 7,
   "metadata": {},
   "outputs": [],
   "source": [
    "# 性能評価のmethod\n",
    "def evaluation(y, y_pred):\n",
    "    accuracy =  accuracy_score(y, y_pred)\n",
    "    print('正答率（Accuracy） = {:.3f}%'.format(100 * accuracy))\n",
    "    \n",
    "    precision, recall, f1_score, _ = precision_recall_fscore_support(y, y_pred)\n",
    "    print('適合率（Precision） = {:.3f}%'.format(100 * precision[1]))\n",
    "    print('再現率（Recall） = {:.3f}%'.format(100 * recall[1]))\n",
    "    print('F1値（F1-score） = {:.3f}%'.format(100 * f1_score[1]))\n",
    "    \n",
    "    conf_mat = confusion_matrix(y, y_pred, labels = ['canceled', 'failed', 'live', 'successful', 'suspended','undefined'])\n",
    "    conf_mat = pd.DataFrame(conf_mat,\n",
    "                        index=['正解 = canceled', '正解 = failed', '正解 = live', '正解 = successful', '正解 = suspended', '正解 = undefined'], \n",
    "                        columns=['予測 = canceled', '予測 = failed', '予測 = live', '予測 = successful', '予測 = suspended', '予測 = undefined'])\n",
    "    display(conf_mat)"
   ]
  },
  {
   "cell_type": "code",
   "execution_count": 47,
   "metadata": {},
   "outputs": [
    {
     "name": "stdout",
     "output_type": "stream",
     "text": [
      "正答率（Accuracy） = 62.042%\n",
      "適合率（Precision） = 79.734%\n",
      "再現率（Recall） = 42.707%\n",
      "F1値（F1-score） = 55.622%\n"
     ]
    },
    {
     "data": {
      "text/html": [
       "<div>\n",
       "<style scoped>\n",
       "    .dataframe tbody tr th:only-of-type {\n",
       "        vertical-align: middle;\n",
       "    }\n",
       "\n",
       "    .dataframe tbody tr th {\n",
       "        vertical-align: top;\n",
       "    }\n",
       "\n",
       "    .dataframe thead th {\n",
       "        text-align: right;\n",
       "    }\n",
       "</style>\n",
       "<table border=\"1\" class=\"dataframe\">\n",
       "  <thead>\n",
       "    <tr style=\"text-align: right;\">\n",
       "      <th></th>\n",
       "      <th>予測 = canceled</th>\n",
       "      <th>予測 = failed</th>\n",
       "      <th>予測 = live</th>\n",
       "      <th>予測 = successful</th>\n",
       "      <th>予測 = suspended</th>\n",
       "      <th>予測 = undefined</th>\n",
       "    </tr>\n",
       "  </thead>\n",
       "  <tbody>\n",
       "    <tr>\n",
       "      <th>正解 = canceled</th>\n",
       "      <td>16594</td>\n",
       "      <td>18535</td>\n",
       "      <td>0</td>\n",
       "      <td>3650</td>\n",
       "      <td>0</td>\n",
       "      <td>0</td>\n",
       "    </tr>\n",
       "    <tr>\n",
       "      <th>正解 = failed</th>\n",
       "      <td>96970</td>\n",
       "      <td>84440</td>\n",
       "      <td>0</td>\n",
       "      <td>16309</td>\n",
       "      <td>0</td>\n",
       "      <td>0</td>\n",
       "    </tr>\n",
       "    <tr>\n",
       "      <th>正解 = live</th>\n",
       "      <td>1102</td>\n",
       "      <td>962</td>\n",
       "      <td>0</td>\n",
       "      <td>735</td>\n",
       "      <td>0</td>\n",
       "      <td>0</td>\n",
       "    </tr>\n",
       "    <tr>\n",
       "      <th>正解 = successful</th>\n",
       "      <td>0</td>\n",
       "      <td>0</td>\n",
       "      <td>61</td>\n",
       "      <td>133895</td>\n",
       "      <td>0</td>\n",
       "      <td>0</td>\n",
       "    </tr>\n",
       "    <tr>\n",
       "      <th>正解 = suspended</th>\n",
       "      <td>526</td>\n",
       "      <td>870</td>\n",
       "      <td>0</td>\n",
       "      <td>450</td>\n",
       "      <td>0</td>\n",
       "      <td>0</td>\n",
       "    </tr>\n",
       "    <tr>\n",
       "      <th>正解 = undefined</th>\n",
       "      <td>747</td>\n",
       "      <td>1095</td>\n",
       "      <td>0</td>\n",
       "      <td>1720</td>\n",
       "      <td>0</td>\n",
       "      <td>0</td>\n",
       "    </tr>\n",
       "  </tbody>\n",
       "</table>\n",
       "</div>"
      ],
      "text/plain": [
       "                 予測 = canceled  予測 = failed  予測 = live  予測 = successful  \\\n",
       "正解 = canceled            16594        18535          0             3650   \n",
       "正解 = failed              96970        84440          0            16309   \n",
       "正解 = live                 1102          962          0              735   \n",
       "正解 = successful              0            0         61           133895   \n",
       "正解 = suspended             526          870          0              450   \n",
       "正解 = undefined             747         1095          0             1720   \n",
       "\n",
       "                 予測 = suspended  予測 = undefined  \n",
       "正解 = canceled                 0               0  \n",
       "正解 = failed                   0               0  \n",
       "正解 = live                     0               0  \n",
       "正解 = successful               0               0  \n",
       "正解 = suspended                0               0  \n",
       "正解 = undefined                0               0  "
      ]
     },
     "metadata": {},
     "output_type": "display_data"
    }
   ],
   "source": [
    "evaluation(y, y_pred)"
   ]
  },
  {
   "cell_type": "markdown",
   "metadata": {},
   "source": [
    "## DAY2\n",
    "\n",
    "学習した内容を下に処理を行ってみて、DAY１の結果と比べる"
   ]
  },
  {
   "cell_type": "markdown",
   "metadata": {},
   "source": [
    "### ホールドアウト法"
   ]
  },
  {
   "cell_type": "code",
   "execution_count": 13,
   "metadata": {},
   "outputs": [],
   "source": [
    "from sklearn.model_selection import train_test_split\n",
    "\n",
    "test_size = 0.2\n",
    "X_train, X_test, y_train, y_test = train_test_split(X_01, y, test_size=test_size, random_state=1234) "
   ]
  },
  {
   "cell_type": "markdown",
   "metadata": {},
   "source": [
    "学習用データを用いて学習"
   ]
  },
  {
   "cell_type": "code",
   "execution_count": 15,
   "metadata": {},
   "outputs": [],
   "source": [
    "clf.fit(X_train, y_train)\n",
    "\n",
    "# 訓練データで予測\n",
    "y_pred_train = clf.predict(X_train)"
   ]
  },
  {
   "cell_type": "markdown",
   "metadata": {},
   "source": [
    "訓練誤差の評価"
   ]
  },
  {
   "cell_type": "code",
   "execution_count": 48,
   "metadata": {},
   "outputs": [
    {
     "name": "stdout",
     "output_type": "stream",
     "text": [
      "正答率（Accuracy） = 79.895%\n"
     ]
    },
    {
     "name": "stderr",
     "output_type": "stream",
     "text": [
      "/Users/kenjoushunsuke/anaconda3/lib/python3.7/site-packages/sklearn/metrics/_classification.py:1272: UndefinedMetricWarning: Precision and F-score are ill-defined and being set to 0.0 in labels with no predicted samples. Use `zero_division` parameter to control this behavior.\n",
      "  _warn_prf(average, modifier, msg_start, len(result))\n"
     ]
    },
    {
     "name": "stdout",
     "output_type": "stream",
     "text": [
      "適合率（Precision） = 81.485%\n",
      "再現率（Recall） = 87.412%\n",
      "F1値（F1-score） = 84.345%\n"
     ]
    },
    {
     "data": {
      "text/html": [
       "<div>\n",
       "<style scoped>\n",
       "    .dataframe tbody tr th:only-of-type {\n",
       "        vertical-align: middle;\n",
       "    }\n",
       "\n",
       "    .dataframe tbody tr th {\n",
       "        vertical-align: top;\n",
       "    }\n",
       "\n",
       "    .dataframe thead th {\n",
       "        text-align: right;\n",
       "    }\n",
       "</style>\n",
       "<table border=\"1\" class=\"dataframe\">\n",
       "  <thead>\n",
       "    <tr style=\"text-align: right;\">\n",
       "      <th></th>\n",
       "      <th>予測 = canceled</th>\n",
       "      <th>予測 = failed</th>\n",
       "      <th>予測 = live</th>\n",
       "      <th>予測 = successful</th>\n",
       "      <th>予測 = suspended</th>\n",
       "      <th>予測 = undefined</th>\n",
       "    </tr>\n",
       "  </thead>\n",
       "  <tbody>\n",
       "    <tr>\n",
       "      <th>正解 = canceled</th>\n",
       "      <td>0</td>\n",
       "      <td>27317</td>\n",
       "      <td>37</td>\n",
       "      <td>3690</td>\n",
       "      <td>0</td>\n",
       "      <td>3</td>\n",
       "    </tr>\n",
       "    <tr>\n",
       "      <th>正解 = failed</th>\n",
       "      <td>0</td>\n",
       "      <td>138120</td>\n",
       "      <td>0</td>\n",
       "      <td>19880</td>\n",
       "      <td>0</td>\n",
       "      <td>10</td>\n",
       "    </tr>\n",
       "    <tr>\n",
       "      <th>正解 = live</th>\n",
       "      <td>0</td>\n",
       "      <td>1531</td>\n",
       "      <td>35</td>\n",
       "      <td>686</td>\n",
       "      <td>0</td>\n",
       "      <td>0</td>\n",
       "    </tr>\n",
       "    <tr>\n",
       "      <th>正解 = successful</th>\n",
       "      <td>0</td>\n",
       "      <td>0</td>\n",
       "      <td>3429</td>\n",
       "      <td>103870</td>\n",
       "      <td>7</td>\n",
       "      <td>0</td>\n",
       "    </tr>\n",
       "    <tr>\n",
       "      <th>正解 = suspended</th>\n",
       "      <td>0</td>\n",
       "      <td>1076</td>\n",
       "      <td>29</td>\n",
       "      <td>355</td>\n",
       "      <td>0</td>\n",
       "      <td>0</td>\n",
       "    </tr>\n",
       "    <tr>\n",
       "      <th>正解 = undefined</th>\n",
       "      <td>0</td>\n",
       "      <td>1459</td>\n",
       "      <td>0</td>\n",
       "      <td>1391</td>\n",
       "      <td>3</td>\n",
       "      <td>0</td>\n",
       "    </tr>\n",
       "  </tbody>\n",
       "</table>\n",
       "</div>"
      ],
      "text/plain": [
       "                 予測 = canceled  予測 = failed  予測 = live  予測 = successful  \\\n",
       "正解 = canceled                0        27317         37             3690   \n",
       "正解 = failed                  0       138120          0            19880   \n",
       "正解 = live                    0         1531         35              686   \n",
       "正解 = successful              0            0       3429           103870   \n",
       "正解 = suspended               0         1076         29              355   \n",
       "正解 = undefined               0         1459          0             1391   \n",
       "\n",
       "                 予測 = suspended  予測 = undefined  \n",
       "正解 = canceled                 0               3  \n",
       "正解 = failed                   0              10  \n",
       "正解 = live                     0               0  \n",
       "正解 = successful               7               0  \n",
       "正解 = suspended                0               0  \n",
       "正解 = undefined                3               0  "
      ]
     },
     "metadata": {},
     "output_type": "display_data"
    }
   ],
   "source": [
    "evaluation(y_train, y_pred_train)"
   ]
  },
  {
   "cell_type": "markdown",
   "metadata": {},
   "source": [
    "汎化誤差の評価"
   ]
  },
  {
   "cell_type": "code",
   "execution_count": 49,
   "metadata": {},
   "outputs": [
    {
     "name": "stdout",
     "output_type": "stream",
     "text": [
      "正答率（Accuracy） = 61.974%\n",
      "適合率（Precision） = 79.892%\n",
      "再現率（Recall） = 42.844%\n",
      "F1値（F1-score） = 55.777%\n"
     ]
    },
    {
     "name": "stderr",
     "output_type": "stream",
     "text": [
      "/Users/kenjoushunsuke/anaconda3/lib/python3.7/site-packages/sklearn/metrics/_classification.py:1272: UndefinedMetricWarning: Precision and F-score are ill-defined and being set to 0.0 in labels with no predicted samples. Use `zero_division` parameter to control this behavior.\n",
      "  _warn_prf(average, modifier, msg_start, len(result))\n"
     ]
    },
    {
     "data": {
      "text/html": [
       "<div>\n",
       "<style scoped>\n",
       "    .dataframe tbody tr th:only-of-type {\n",
       "        vertical-align: middle;\n",
       "    }\n",
       "\n",
       "    .dataframe tbody tr th {\n",
       "        vertical-align: top;\n",
       "    }\n",
       "\n",
       "    .dataframe thead th {\n",
       "        text-align: right;\n",
       "    }\n",
       "</style>\n",
       "<table border=\"1\" class=\"dataframe\">\n",
       "  <thead>\n",
       "    <tr style=\"text-align: right;\">\n",
       "      <th></th>\n",
       "      <th>予測 = canceled</th>\n",
       "      <th>予測 = failed</th>\n",
       "      <th>予測 = live</th>\n",
       "      <th>予測 = successful</th>\n",
       "      <th>予測 = suspended</th>\n",
       "      <th>予測 = undefined</th>\n",
       "    </tr>\n",
       "  </thead>\n",
       "  <tbody>\n",
       "    <tr>\n",
       "      <th>正解 = canceled</th>\n",
       "      <td>3284</td>\n",
       "      <td>3703</td>\n",
       "      <td>0</td>\n",
       "      <td>745</td>\n",
       "      <td>0</td>\n",
       "      <td>0</td>\n",
       "    </tr>\n",
       "    <tr>\n",
       "      <th>正解 = failed</th>\n",
       "      <td>19447</td>\n",
       "      <td>17013</td>\n",
       "      <td>0</td>\n",
       "      <td>3249</td>\n",
       "      <td>0</td>\n",
       "      <td>0</td>\n",
       "    </tr>\n",
       "    <tr>\n",
       "      <th>正解 = live</th>\n",
       "      <td>214</td>\n",
       "      <td>185</td>\n",
       "      <td>0</td>\n",
       "      <td>148</td>\n",
       "      <td>0</td>\n",
       "      <td>0</td>\n",
       "    </tr>\n",
       "    <tr>\n",
       "      <th>正解 = successful</th>\n",
       "      <td>0</td>\n",
       "      <td>0</td>\n",
       "      <td>12</td>\n",
       "      <td>26638</td>\n",
       "      <td>0</td>\n",
       "      <td>0</td>\n",
       "    </tr>\n",
       "    <tr>\n",
       "      <th>正解 = suspended</th>\n",
       "      <td>105</td>\n",
       "      <td>178</td>\n",
       "      <td>0</td>\n",
       "      <td>103</td>\n",
       "      <td>0</td>\n",
       "      <td>0</td>\n",
       "    </tr>\n",
       "    <tr>\n",
       "      <th>正解 = undefined</th>\n",
       "      <td>161</td>\n",
       "      <td>216</td>\n",
       "      <td>0</td>\n",
       "      <td>332</td>\n",
       "      <td>0</td>\n",
       "      <td>0</td>\n",
       "    </tr>\n",
       "  </tbody>\n",
       "</table>\n",
       "</div>"
      ],
      "text/plain": [
       "                 予測 = canceled  予測 = failed  予測 = live  予測 = successful  \\\n",
       "正解 = canceled             3284         3703          0              745   \n",
       "正解 = failed              19447        17013          0             3249   \n",
       "正解 = live                  214          185          0              148   \n",
       "正解 = successful              0            0         12            26638   \n",
       "正解 = suspended             105          178          0              103   \n",
       "正解 = undefined             161          216          0              332   \n",
       "\n",
       "                 予測 = suspended  予測 = undefined  \n",
       "正解 = canceled                 0               0  \n",
       "正解 = failed                   0               0  \n",
       "正解 = live                     0               0  \n",
       "正解 = successful               0               0  \n",
       "正解 = suspended                0               0  \n",
       "正解 = undefined                0               0  "
      ]
     },
     "metadata": {},
     "output_type": "display_data"
    }
   ],
   "source": [
    "# テストデータで予測\n",
    "y_pred_test = clf.predict(X_test)\n",
    "\n",
    "evaluation(y_test, y_pred_test)"
   ]
  },
  {
   "cell_type": "markdown",
   "metadata": {},
   "source": [
    "汎化誤差がかなり悪い...??"
   ]
  },
  {
   "cell_type": "markdown",
   "metadata": {},
   "source": [
    "### 交差検証法"
   ]
  },
  {
   "cell_type": "code",
   "execution_count": 53,
   "metadata": {},
   "outputs": [
    {
     "name": "stderr",
     "output_type": "stream",
     "text": [
      "/Users/kenjoushunsuke/anaconda3/lib/python3.7/site-packages/sklearn/linear_model/_stochastic_gradient.py:557: ConvergenceWarning: Maximum number of iteration reached before convergence. Consider increasing max_iter to improve the fit.\n",
      "  ConvergenceWarning)\n"
     ]
    },
    {
     "name": "stdout",
     "output_type": "stream",
     "text": [
      "正答率（Accuracy） = 87.465%\n",
      "適合率（Precision） = 82.017%\n",
      "再現率（Recall） = 99.763%\n",
      "F1値（F1-score） = 90.024%\n"
     ]
    },
    {
     "name": "stderr",
     "output_type": "stream",
     "text": [
      "/Users/kenjoushunsuke/anaconda3/lib/python3.7/site-packages/sklearn/metrics/_classification.py:1272: UndefinedMetricWarning: Precision and F-score are ill-defined and being set to 0.0 in labels with no predicted samples. Use `zero_division` parameter to control this behavior.\n",
      "  _warn_prf(average, modifier, msg_start, len(result))\n"
     ]
    },
    {
     "data": {
      "text/html": [
       "<div>\n",
       "<style scoped>\n",
       "    .dataframe tbody tr th:only-of-type {\n",
       "        vertical-align: middle;\n",
       "    }\n",
       "\n",
       "    .dataframe tbody tr th {\n",
       "        vertical-align: top;\n",
       "    }\n",
       "\n",
       "    .dataframe thead th {\n",
       "        text-align: right;\n",
       "    }\n",
       "</style>\n",
       "<table border=\"1\" class=\"dataframe\">\n",
       "  <thead>\n",
       "    <tr style=\"text-align: right;\">\n",
       "      <th></th>\n",
       "      <th>予測 = canceled</th>\n",
       "      <th>予測 = failed</th>\n",
       "      <th>予測 = live</th>\n",
       "      <th>予測 = successful</th>\n",
       "      <th>予測 = suspended</th>\n",
       "      <th>予測 = undefined</th>\n",
       "    </tr>\n",
       "  </thead>\n",
       "  <tbody>\n",
       "    <tr>\n",
       "      <th>正解 = canceled</th>\n",
       "      <td>0</td>\n",
       "      <td>7549</td>\n",
       "      <td>0</td>\n",
       "      <td>183</td>\n",
       "      <td>0</td>\n",
       "      <td>0</td>\n",
       "    </tr>\n",
       "    <tr>\n",
       "      <th>正解 = failed</th>\n",
       "      <td>0</td>\n",
       "      <td>39615</td>\n",
       "      <td>0</td>\n",
       "      <td>94</td>\n",
       "      <td>0</td>\n",
       "      <td>0</td>\n",
       "    </tr>\n",
       "    <tr>\n",
       "      <th>正解 = live</th>\n",
       "      <td>0</td>\n",
       "      <td>441</td>\n",
       "      <td>1</td>\n",
       "      <td>105</td>\n",
       "      <td>0</td>\n",
       "      <td>0</td>\n",
       "    </tr>\n",
       "    <tr>\n",
       "      <th>正解 = successful</th>\n",
       "      <td>0</td>\n",
       "      <td>0</td>\n",
       "      <td>26</td>\n",
       "      <td>26624</td>\n",
       "      <td>0</td>\n",
       "      <td>0</td>\n",
       "    </tr>\n",
       "    <tr>\n",
       "      <th>正解 = suspended</th>\n",
       "      <td>0</td>\n",
       "      <td>309</td>\n",
       "      <td>1</td>\n",
       "      <td>76</td>\n",
       "      <td>0</td>\n",
       "      <td>0</td>\n",
       "    </tr>\n",
       "    <tr>\n",
       "      <th>正解 = undefined</th>\n",
       "      <td>0</td>\n",
       "      <td>387</td>\n",
       "      <td>0</td>\n",
       "      <td>322</td>\n",
       "      <td>0</td>\n",
       "      <td>0</td>\n",
       "    </tr>\n",
       "  </tbody>\n",
       "</table>\n",
       "</div>"
      ],
      "text/plain": [
       "                 予測 = canceled  予測 = failed  予測 = live  予測 = successful  \\\n",
       "正解 = canceled                0         7549          0              183   \n",
       "正解 = failed                  0        39615          0               94   \n",
       "正解 = live                    0          441          1              105   \n",
       "正解 = successful              0            0         26            26624   \n",
       "正解 = suspended               0          309          1               76   \n",
       "正解 = undefined               0          387          0              322   \n",
       "\n",
       "                 予測 = suspended  予測 = undefined  \n",
       "正解 = canceled                 0               0  \n",
       "正解 = failed                   0               0  \n",
       "正解 = live                     0               0  \n",
       "正解 = successful               0               0  \n",
       "正解 = suspended                0               0  \n",
       "正解 = undefined                0               0  "
      ]
     },
     "metadata": {},
     "output_type": "display_data"
    },
    {
     "name": "stdout",
     "output_type": "stream",
     "text": [
      "正答率（Accuracy） = 61.205%\n",
      "適合率（Precision） = 57.419%\n",
      "再現率（Recall） = 100.000%\n",
      "F1値（F1-score） = 72.950%\n"
     ]
    },
    {
     "name": "stderr",
     "output_type": "stream",
     "text": [
      "/Users/kenjoushunsuke/anaconda3/lib/python3.7/site-packages/sklearn/metrics/_classification.py:1272: UndefinedMetricWarning: Precision and F-score are ill-defined and being set to 0.0 in labels with no predicted samples. Use `zero_division` parameter to control this behavior.\n",
      "  _warn_prf(average, modifier, msg_start, len(result))\n"
     ]
    },
    {
     "data": {
      "text/html": [
       "<div>\n",
       "<style scoped>\n",
       "    .dataframe tbody tr th:only-of-type {\n",
       "        vertical-align: middle;\n",
       "    }\n",
       "\n",
       "    .dataframe tbody tr th {\n",
       "        vertical-align: top;\n",
       "    }\n",
       "\n",
       "    .dataframe thead th {\n",
       "        text-align: right;\n",
       "    }\n",
       "</style>\n",
       "<table border=\"1\" class=\"dataframe\">\n",
       "  <thead>\n",
       "    <tr style=\"text-align: right;\">\n",
       "      <th></th>\n",
       "      <th>予測 = canceled</th>\n",
       "      <th>予測 = failed</th>\n",
       "      <th>予測 = live</th>\n",
       "      <th>予測 = successful</th>\n",
       "      <th>予測 = suspended</th>\n",
       "      <th>予測 = undefined</th>\n",
       "    </tr>\n",
       "  </thead>\n",
       "  <tbody>\n",
       "    <tr>\n",
       "      <th>正解 = canceled</th>\n",
       "      <td>0</td>\n",
       "      <td>7752</td>\n",
       "      <td>0</td>\n",
       "      <td>57</td>\n",
       "      <td>0</td>\n",
       "      <td>0</td>\n",
       "    </tr>\n",
       "    <tr>\n",
       "      <th>正解 = failed</th>\n",
       "      <td>0</td>\n",
       "      <td>39399</td>\n",
       "      <td>0</td>\n",
       "      <td>0</td>\n",
       "      <td>0</td>\n",
       "      <td>0</td>\n",
       "    </tr>\n",
       "    <tr>\n",
       "      <th>正解 = live</th>\n",
       "      <td>0</td>\n",
       "      <td>495</td>\n",
       "      <td>0</td>\n",
       "      <td>50</td>\n",
       "      <td>0</td>\n",
       "      <td>0</td>\n",
       "    </tr>\n",
       "    <tr>\n",
       "      <th>正解 = successful</th>\n",
       "      <td>0</td>\n",
       "      <td>19992</td>\n",
       "      <td>0</td>\n",
       "      <td>6953</td>\n",
       "      <td>0</td>\n",
       "      <td>0</td>\n",
       "    </tr>\n",
       "    <tr>\n",
       "      <th>正解 = suspended</th>\n",
       "      <td>0</td>\n",
       "      <td>313</td>\n",
       "      <td>0</td>\n",
       "      <td>43</td>\n",
       "      <td>0</td>\n",
       "      <td>0</td>\n",
       "    </tr>\n",
       "    <tr>\n",
       "      <th>正解 = undefined</th>\n",
       "      <td>0</td>\n",
       "      <td>666</td>\n",
       "      <td>0</td>\n",
       "      <td>12</td>\n",
       "      <td>0</td>\n",
       "      <td>0</td>\n",
       "    </tr>\n",
       "  </tbody>\n",
       "</table>\n",
       "</div>"
      ],
      "text/plain": [
       "                 予測 = canceled  予測 = failed  予測 = live  予測 = successful  \\\n",
       "正解 = canceled                0         7752          0               57   \n",
       "正解 = failed                  0        39399          0                0   \n",
       "正解 = live                    0          495          0               50   \n",
       "正解 = successful              0        19992          0             6953   \n",
       "正解 = suspended               0          313          0               43   \n",
       "正解 = undefined               0          666          0               12   \n",
       "\n",
       "                 予測 = suspended  予測 = undefined  \n",
       "正解 = canceled                 0               0  \n",
       "正解 = failed                   0               0  \n",
       "正解 = live                     0               0  \n",
       "正解 = successful               0               0  \n",
       "正解 = suspended                0               0  \n",
       "正解 = undefined                0               0  "
      ]
     },
     "metadata": {},
     "output_type": "display_data"
    },
    {
     "name": "stdout",
     "output_type": "stream",
     "text": [
      "正答率（Accuracy） = 66.763%\n",
      "適合率（Precision） = 80.852%\n",
      "再現率（Recall） = 58.127%\n",
      "F1値（F1-score） = 67.632%\n"
     ]
    },
    {
     "name": "stderr",
     "output_type": "stream",
     "text": [
      "/Users/kenjoushunsuke/anaconda3/lib/python3.7/site-packages/sklearn/metrics/_classification.py:1272: UndefinedMetricWarning: Precision and F-score are ill-defined and being set to 0.0 in labels with no predicted samples. Use `zero_division` parameter to control this behavior.\n",
      "  _warn_prf(average, modifier, msg_start, len(result))\n"
     ]
    },
    {
     "data": {
      "text/html": [
       "<div>\n",
       "<style scoped>\n",
       "    .dataframe tbody tr th:only-of-type {\n",
       "        vertical-align: middle;\n",
       "    }\n",
       "\n",
       "    .dataframe tbody tr th {\n",
       "        vertical-align: top;\n",
       "    }\n",
       "\n",
       "    .dataframe thead th {\n",
       "        text-align: right;\n",
       "    }\n",
       "</style>\n",
       "<table border=\"1\" class=\"dataframe\">\n",
       "  <thead>\n",
       "    <tr style=\"text-align: right;\">\n",
       "      <th></th>\n",
       "      <th>予測 = canceled</th>\n",
       "      <th>予測 = failed</th>\n",
       "      <th>予測 = live</th>\n",
       "      <th>予測 = successful</th>\n",
       "      <th>予測 = suspended</th>\n",
       "      <th>予測 = undefined</th>\n",
       "    </tr>\n",
       "  </thead>\n",
       "  <tbody>\n",
       "    <tr>\n",
       "      <th>正解 = canceled</th>\n",
       "      <td>691</td>\n",
       "      <td>4749</td>\n",
       "      <td>0</td>\n",
       "      <td>304</td>\n",
       "      <td>0</td>\n",
       "      <td>1972</td>\n",
       "    </tr>\n",
       "    <tr>\n",
       "      <th>正解 = failed</th>\n",
       "      <td>2965</td>\n",
       "      <td>23012</td>\n",
       "      <td>0</td>\n",
       "      <td>809</td>\n",
       "      <td>0</td>\n",
       "      <td>12803</td>\n",
       "    </tr>\n",
       "    <tr>\n",
       "      <th>正解 = live</th>\n",
       "      <td>57</td>\n",
       "      <td>258</td>\n",
       "      <td>0</td>\n",
       "      <td>119</td>\n",
       "      <td>0</td>\n",
       "      <td>132</td>\n",
       "    </tr>\n",
       "    <tr>\n",
       "      <th>正解 = successful</th>\n",
       "      <td>0</td>\n",
       "      <td>0</td>\n",
       "      <td>0</td>\n",
       "      <td>26782</td>\n",
       "      <td>0</td>\n",
       "      <td>0</td>\n",
       "    </tr>\n",
       "    <tr>\n",
       "      <th>正解 = suspended</th>\n",
       "      <td>32</td>\n",
       "      <td>189</td>\n",
       "      <td>0</td>\n",
       "      <td>60</td>\n",
       "      <td>0</td>\n",
       "      <td>69</td>\n",
       "    </tr>\n",
       "    <tr>\n",
       "      <th>正解 = undefined</th>\n",
       "      <td>55</td>\n",
       "      <td>254</td>\n",
       "      <td>0</td>\n",
       "      <td>344</td>\n",
       "      <td>0</td>\n",
       "      <td>76</td>\n",
       "    </tr>\n",
       "  </tbody>\n",
       "</table>\n",
       "</div>"
      ],
      "text/plain": [
       "                 予測 = canceled  予測 = failed  予測 = live  予測 = successful  \\\n",
       "正解 = canceled              691         4749          0              304   \n",
       "正解 = failed               2965        23012          0              809   \n",
       "正解 = live                   57          258          0              119   \n",
       "正解 = successful              0            0          0            26782   \n",
       "正解 = suspended              32          189          0               60   \n",
       "正解 = undefined              55          254          0              344   \n",
       "\n",
       "                 予測 = suspended  予測 = undefined  \n",
       "正解 = canceled                 0            1972  \n",
       "正解 = failed                   0           12803  \n",
       "正解 = live                     0             132  \n",
       "正解 = successful               0               0  \n",
       "正解 = suspended                0              69  \n",
       "正解 = undefined                0              76  "
      ]
     },
     "metadata": {},
     "output_type": "display_data"
    },
    {
     "name": "stderr",
     "output_type": "stream",
     "text": [
      "/Users/kenjoushunsuke/anaconda3/lib/python3.7/site-packages/sklearn/linear_model/_stochastic_gradient.py:557: ConvergenceWarning: Maximum number of iteration reached before convergence. Consider increasing max_iter to improve the fit.\n",
      "  ConvergenceWarning)\n"
     ]
    },
    {
     "name": "stdout",
     "output_type": "stream",
     "text": [
      "正答率（Accuracy） = 87.361%\n",
      "適合率（Precision） = 81.701%\n",
      "再現率（Recall） = 99.792%\n",
      "F1値（F1-score） = 89.845%\n"
     ]
    },
    {
     "name": "stderr",
     "output_type": "stream",
     "text": [
      "/Users/kenjoushunsuke/anaconda3/lib/python3.7/site-packages/sklearn/metrics/_classification.py:1272: UndefinedMetricWarning: Precision and F-score are ill-defined and being set to 0.0 in labels with no predicted samples. Use `zero_division` parameter to control this behavior.\n",
      "  _warn_prf(average, modifier, msg_start, len(result))\n"
     ]
    },
    {
     "data": {
      "text/html": [
       "<div>\n",
       "<style scoped>\n",
       "    .dataframe tbody tr th:only-of-type {\n",
       "        vertical-align: middle;\n",
       "    }\n",
       "\n",
       "    .dataframe tbody tr th {\n",
       "        vertical-align: top;\n",
       "    }\n",
       "\n",
       "    .dataframe thead th {\n",
       "        text-align: right;\n",
       "    }\n",
       "</style>\n",
       "<table border=\"1\" class=\"dataframe\">\n",
       "  <thead>\n",
       "    <tr style=\"text-align: right;\">\n",
       "      <th></th>\n",
       "      <th>予測 = canceled</th>\n",
       "      <th>予測 = failed</th>\n",
       "      <th>予測 = live</th>\n",
       "      <th>予測 = successful</th>\n",
       "      <th>予測 = suspended</th>\n",
       "      <th>予測 = undefined</th>\n",
       "    </tr>\n",
       "  </thead>\n",
       "  <tbody>\n",
       "    <tr>\n",
       "      <th>正解 = canceled</th>\n",
       "      <td>0</td>\n",
       "      <td>7551</td>\n",
       "      <td>18</td>\n",
       "      <td>132</td>\n",
       "      <td>0</td>\n",
       "      <td>2</td>\n",
       "    </tr>\n",
       "    <tr>\n",
       "      <th>正解 = failed</th>\n",
       "      <td>0</td>\n",
       "      <td>39392</td>\n",
       "      <td>72</td>\n",
       "      <td>10</td>\n",
       "      <td>0</td>\n",
       "      <td>0</td>\n",
       "    </tr>\n",
       "    <tr>\n",
       "      <th>正解 = live</th>\n",
       "      <td>0</td>\n",
       "      <td>481</td>\n",
       "      <td>0</td>\n",
       "      <td>79</td>\n",
       "      <td>0</td>\n",
       "      <td>0</td>\n",
       "    </tr>\n",
       "    <tr>\n",
       "      <th>正解 = successful</th>\n",
       "      <td>0</td>\n",
       "      <td>97</td>\n",
       "      <td>3</td>\n",
       "      <td>26768</td>\n",
       "      <td>0</td>\n",
       "      <td>35</td>\n",
       "    </tr>\n",
       "    <tr>\n",
       "      <th>正解 = suspended</th>\n",
       "      <td>0</td>\n",
       "      <td>304</td>\n",
       "      <td>4</td>\n",
       "      <td>60</td>\n",
       "      <td>0</td>\n",
       "      <td>0</td>\n",
       "    </tr>\n",
       "    <tr>\n",
       "      <th>正解 = undefined</th>\n",
       "      <td>0</td>\n",
       "      <td>390</td>\n",
       "      <td>0</td>\n",
       "      <td>334</td>\n",
       "      <td>0</td>\n",
       "      <td>0</td>\n",
       "    </tr>\n",
       "  </tbody>\n",
       "</table>\n",
       "</div>"
      ],
      "text/plain": [
       "                 予測 = canceled  予測 = failed  予測 = live  予測 = successful  \\\n",
       "正解 = canceled                0         7551         18              132   \n",
       "正解 = failed                  0        39392         72               10   \n",
       "正解 = live                    0          481          0               79   \n",
       "正解 = successful              0           97          3            26768   \n",
       "正解 = suspended               0          304          4               60   \n",
       "正解 = undefined               0          390          0              334   \n",
       "\n",
       "                 予測 = suspended  予測 = undefined  \n",
       "正解 = canceled                 0               2  \n",
       "正解 = failed                   0               0  \n",
       "正解 = live                     0               0  \n",
       "正解 = successful               0              35  \n",
       "正解 = suspended                0               0  \n",
       "正解 = undefined                0               0  "
      ]
     },
     "metadata": {},
     "output_type": "display_data"
    },
    {
     "name": "stdout",
     "output_type": "stream",
     "text": [
      "正答率（Accuracy） = 71.712%\n",
      "適合率（Precision） = 81.125%\n",
      "再現率（Recall） = 67.306%\n",
      "F1値（F1-score） = 73.572%\n"
     ]
    },
    {
     "name": "stderr",
     "output_type": "stream",
     "text": [
      "/Users/kenjoushunsuke/anaconda3/lib/python3.7/site-packages/sklearn/metrics/_classification.py:1272: UndefinedMetricWarning: Precision and F-score are ill-defined and being set to 0.0 in labels with no predicted samples. Use `zero_division` parameter to control this behavior.\n",
      "  _warn_prf(average, modifier, msg_start, len(result))\n"
     ]
    },
    {
     "data": {
      "text/html": [
       "<div>\n",
       "<style scoped>\n",
       "    .dataframe tbody tr th:only-of-type {\n",
       "        vertical-align: middle;\n",
       "    }\n",
       "\n",
       "    .dataframe tbody tr th {\n",
       "        vertical-align: top;\n",
       "    }\n",
       "\n",
       "    .dataframe thead th {\n",
       "        text-align: right;\n",
       "    }\n",
       "</style>\n",
       "<table border=\"1\" class=\"dataframe\">\n",
       "  <thead>\n",
       "    <tr style=\"text-align: right;\">\n",
       "      <th></th>\n",
       "      <th>予測 = canceled</th>\n",
       "      <th>予測 = failed</th>\n",
       "      <th>予測 = live</th>\n",
       "      <th>予測 = successful</th>\n",
       "      <th>予測 = suspended</th>\n",
       "      <th>予測 = undefined</th>\n",
       "    </tr>\n",
       "  </thead>\n",
       "  <tbody>\n",
       "    <tr>\n",
       "      <th>正解 = canceled</th>\n",
       "      <td>1084</td>\n",
       "      <td>5409</td>\n",
       "      <td>1172</td>\n",
       "      <td>154</td>\n",
       "      <td>0</td>\n",
       "      <td>0</td>\n",
       "    </tr>\n",
       "    <tr>\n",
       "      <th>正解 = failed</th>\n",
       "      <td>6468</td>\n",
       "      <td>26618</td>\n",
       "      <td>6452</td>\n",
       "      <td>10</td>\n",
       "      <td>0</td>\n",
       "      <td>0</td>\n",
       "    </tr>\n",
       "    <tr>\n",
       "      <th>正解 = live</th>\n",
       "      <td>91</td>\n",
       "      <td>287</td>\n",
       "      <td>113</td>\n",
       "      <td>90</td>\n",
       "      <td>0</td>\n",
       "      <td>0</td>\n",
       "    </tr>\n",
       "    <tr>\n",
       "      <th>正解 = successful</th>\n",
       "      <td>181</td>\n",
       "      <td>0</td>\n",
       "      <td>1</td>\n",
       "      <td>26494</td>\n",
       "      <td>0</td>\n",
       "      <td>0</td>\n",
       "    </tr>\n",
       "    <tr>\n",
       "      <th>正解 = suspended</th>\n",
       "      <td>36</td>\n",
       "      <td>219</td>\n",
       "      <td>70</td>\n",
       "      <td>61</td>\n",
       "      <td>0</td>\n",
       "      <td>0</td>\n",
       "    </tr>\n",
       "    <tr>\n",
       "      <th>正解 = undefined</th>\n",
       "      <td>42</td>\n",
       "      <td>278</td>\n",
       "      <td>64</td>\n",
       "      <td>338</td>\n",
       "      <td>0</td>\n",
       "      <td>0</td>\n",
       "    </tr>\n",
       "  </tbody>\n",
       "</table>\n",
       "</div>"
      ],
      "text/plain": [
       "                 予測 = canceled  予測 = failed  予測 = live  予測 = successful  \\\n",
       "正解 = canceled             1084         5409       1172              154   \n",
       "正解 = failed               6468        26618       6452               10   \n",
       "正解 = live                   91          287        113               90   \n",
       "正解 = successful            181            0          1            26494   \n",
       "正解 = suspended              36          219         70               61   \n",
       "正解 = undefined              42          278         64              338   \n",
       "\n",
       "                 予測 = suspended  予測 = undefined  \n",
       "正解 = canceled                 0               0  \n",
       "正解 = failed                   0               0  \n",
       "正解 = live                     0               0  \n",
       "正解 = successful               0               0  \n",
       "正解 = suspended                0               0  \n",
       "正解 = undefined                0               0  "
      ]
     },
     "metadata": {},
     "output_type": "display_data"
    }
   ],
   "source": [
    "from sklearn.model_selection import KFold\n",
    "\n",
    "n_split = 5 # グループ数を設定（今回は5分割）\n",
    "\n",
    "# kfold: K-分割交差検証\n",
    "for train_idx, test_idx in KFold(n_splits=n_split, shuffle=True, random_state=1234).split(X_01, y):\n",
    "    X_train, y_train = X_01[train_idx], y[train_idx]\n",
    "    X_test, y_test = X_01[test_idx], y[test_idx]\n",
    "    \n",
    "    clf.fit(X_train, y_train)\n",
    "\n",
    "    # テストデータに対する予測を実行\n",
    "    y_pred_test = clf.predict(X_test)\n",
    "    \n",
    "    # 性能評価\n",
    "    evaluation(y_test, y_pred_test)"
   ]
  },
  {
   "cell_type": "markdown",
   "metadata": {},
   "source": [
    "- 計算負荷がかなり高い...(時間がかかる...)\n",
    "- 結果が分割方法によってかなりばらつくのが面白い"
   ]
  },
  {
   "cell_type": "markdown",
   "metadata": {},
   "source": [
    "## 正則化\n",
    "\n",
    "\n",
    "`SGDClassifier`の正則化は`penalty`のパラメーターで行う\n",
    "- L1正則化: `l1`\n",
    "- L2正則化: `l2` (default)\n",
    "- ElasticNet: `elasticnet`\n",
    "\n",
    "alpha (float, default=0.0001) : 正則化にかけられる係数\n",
    "\n",
    "l1_ratio (float, default=0.15) : L1正則化とL2正則化の比率を決定"
   ]
  },
  {
   "cell_type": "markdown",
   "metadata": {},
   "source": [
    "### Ridge\n",
    "\n",
    "係数の値が小さくなるように正則化"
   ]
  },
  {
   "cell_type": "code",
   "execution_count": 59,
   "metadata": {},
   "outputs": [
    {
     "name": "stdout",
     "output_type": "stream",
     "text": [
      "正答率（Accuracy） = 60.200%\n"
     ]
    },
    {
     "name": "stderr",
     "output_type": "stream",
     "text": [
      "/Users/kenjoushunsuke/anaconda3/lib/python3.7/site-packages/sklearn/metrics/_classification.py:1272: UndefinedMetricWarning: Precision and F-score are ill-defined and being set to 0.0 in labels with no predicted samples. Use `zero_division` parameter to control this behavior.\n",
      "  _warn_prf(average, modifier, msg_start, len(result))\n"
     ]
    },
    {
     "name": "stdout",
     "output_type": "stream",
     "text": [
      "適合率（Precision） = 80.331%\n",
      "再現率（Recall） = 46.924%\n",
      "F1値（F1-score） = 59.243%\n"
     ]
    },
    {
     "data": {
      "text/html": [
       "<div>\n",
       "<style scoped>\n",
       "    .dataframe tbody tr th:only-of-type {\n",
       "        vertical-align: middle;\n",
       "    }\n",
       "\n",
       "    .dataframe tbody tr th {\n",
       "        vertical-align: top;\n",
       "    }\n",
       "\n",
       "    .dataframe thead th {\n",
       "        text-align: right;\n",
       "    }\n",
       "</style>\n",
       "<table border=\"1\" class=\"dataframe\">\n",
       "  <thead>\n",
       "    <tr style=\"text-align: right;\">\n",
       "      <th></th>\n",
       "      <th>予測 = canceled</th>\n",
       "      <th>予測 = failed</th>\n",
       "      <th>予測 = live</th>\n",
       "      <th>予測 = successful</th>\n",
       "      <th>予測 = suspended</th>\n",
       "      <th>予測 = undefined</th>\n",
       "    </tr>\n",
       "  </thead>\n",
       "  <tbody>\n",
       "    <tr>\n",
       "      <th>正解 = canceled</th>\n",
       "      <td>0</td>\n",
       "      <td>19715</td>\n",
       "      <td>18041</td>\n",
       "      <td>833</td>\n",
       "      <td>190</td>\n",
       "      <td>0</td>\n",
       "    </tr>\n",
       "    <tr>\n",
       "      <th>正解 = failed</th>\n",
       "      <td>0</td>\n",
       "      <td>92778</td>\n",
       "      <td>103415</td>\n",
       "      <td>612</td>\n",
       "      <td>914</td>\n",
       "      <td>0</td>\n",
       "    </tr>\n",
       "    <tr>\n",
       "      <th>正解 = live</th>\n",
       "      <td>0</td>\n",
       "      <td>1038</td>\n",
       "      <td>1219</td>\n",
       "      <td>457</td>\n",
       "      <td>85</td>\n",
       "      <td>0</td>\n",
       "    </tr>\n",
       "    <tr>\n",
       "      <th>正解 = successful</th>\n",
       "      <td>4</td>\n",
       "      <td>0</td>\n",
       "      <td>1</td>\n",
       "      <td>133951</td>\n",
       "      <td>0</td>\n",
       "      <td>0</td>\n",
       "    </tr>\n",
       "    <tr>\n",
       "      <th>正解 = suspended</th>\n",
       "      <td>0</td>\n",
       "      <td>844</td>\n",
       "      <td>687</td>\n",
       "      <td>310</td>\n",
       "      <td>5</td>\n",
       "      <td>0</td>\n",
       "    </tr>\n",
       "    <tr>\n",
       "      <th>正解 = undefined</th>\n",
       "      <td>0</td>\n",
       "      <td>1120</td>\n",
       "      <td>788</td>\n",
       "      <td>1654</td>\n",
       "      <td>0</td>\n",
       "      <td>0</td>\n",
       "    </tr>\n",
       "  </tbody>\n",
       "</table>\n",
       "</div>"
      ],
      "text/plain": [
       "                 予測 = canceled  予測 = failed  予測 = live  予測 = successful  \\\n",
       "正解 = canceled                0        19715      18041              833   \n",
       "正解 = failed                  0        92778     103415              612   \n",
       "正解 = live                    0         1038       1219              457   \n",
       "正解 = successful              4            0          1           133951   \n",
       "正解 = suspended               0          844        687              310   \n",
       "正解 = undefined               0         1120        788             1654   \n",
       "\n",
       "                 予測 = suspended  予測 = undefined  \n",
       "正解 = canceled               190               0  \n",
       "正解 = failed                 914               0  \n",
       "正解 = live                    85               0  \n",
       "正解 = successful               0               0  \n",
       "正解 = suspended                5               0  \n",
       "正解 = undefined                0               0  "
      ]
     },
     "metadata": {},
     "output_type": "display_data"
    },
    {
     "name": "stdout",
     "output_type": "stream",
     "text": [
      "正答率（Accuracy） = 66.584%\n"
     ]
    },
    {
     "name": "stderr",
     "output_type": "stream",
     "text": [
      "/Users/kenjoushunsuke/anaconda3/lib/python3.7/site-packages/sklearn/metrics/_classification.py:1272: UndefinedMetricWarning: Precision and F-score are ill-defined and being set to 0.0 in labels with no predicted samples. Use `zero_division` parameter to control this behavior.\n",
      "  _warn_prf(average, modifier, msg_start, len(result))\n"
     ]
    },
    {
     "name": "stdout",
     "output_type": "stream",
     "text": [
      "適合率（Precision） = 81.000%\n",
      "再現率（Recall） = 58.095%\n",
      "F1値（F1-score） = 67.661%\n"
     ]
    },
    {
     "data": {
      "text/html": [
       "<div>\n",
       "<style scoped>\n",
       "    .dataframe tbody tr th:only-of-type {\n",
       "        vertical-align: middle;\n",
       "    }\n",
       "\n",
       "    .dataframe tbody tr th {\n",
       "        vertical-align: top;\n",
       "    }\n",
       "\n",
       "    .dataframe thead th {\n",
       "        text-align: right;\n",
       "    }\n",
       "</style>\n",
       "<table border=\"1\" class=\"dataframe\">\n",
       "  <thead>\n",
       "    <tr style=\"text-align: right;\">\n",
       "      <th></th>\n",
       "      <th>予測 = canceled</th>\n",
       "      <th>予測 = failed</th>\n",
       "      <th>予測 = live</th>\n",
       "      <th>予測 = successful</th>\n",
       "      <th>予測 = suspended</th>\n",
       "      <th>予測 = undefined</th>\n",
       "    </tr>\n",
       "  </thead>\n",
       "  <tbody>\n",
       "    <tr>\n",
       "      <th>正解 = canceled</th>\n",
       "      <td>13379</td>\n",
       "      <td>23510</td>\n",
       "      <td>316</td>\n",
       "      <td>1574</td>\n",
       "      <td>0</td>\n",
       "      <td>0</td>\n",
       "    </tr>\n",
       "    <tr>\n",
       "      <th>正解 = failed</th>\n",
       "      <td>76785</td>\n",
       "      <td>114864</td>\n",
       "      <td>1256</td>\n",
       "      <td>4814</td>\n",
       "      <td>0</td>\n",
       "      <td>0</td>\n",
       "    </tr>\n",
       "    <tr>\n",
       "      <th>正解 = live</th>\n",
       "      <td>1017</td>\n",
       "      <td>1157</td>\n",
       "      <td>76</td>\n",
       "      <td>549</td>\n",
       "      <td>0</td>\n",
       "      <td>0</td>\n",
       "    </tr>\n",
       "    <tr>\n",
       "      <th>正解 = successful</th>\n",
       "      <td>10146</td>\n",
       "      <td>0</td>\n",
       "      <td>1</td>\n",
       "      <td>123809</td>\n",
       "      <td>0</td>\n",
       "      <td>0</td>\n",
       "    </tr>\n",
       "    <tr>\n",
       "      <th>正解 = suspended</th>\n",
       "      <td>468</td>\n",
       "      <td>985</td>\n",
       "      <td>19</td>\n",
       "      <td>374</td>\n",
       "      <td>0</td>\n",
       "      <td>0</td>\n",
       "    </tr>\n",
       "    <tr>\n",
       "      <th>正解 = undefined</th>\n",
       "      <td>805</td>\n",
       "      <td>1291</td>\n",
       "      <td>12</td>\n",
       "      <td>1454</td>\n",
       "      <td>0</td>\n",
       "      <td>0</td>\n",
       "    </tr>\n",
       "  </tbody>\n",
       "</table>\n",
       "</div>"
      ],
      "text/plain": [
       "                 予測 = canceled  予測 = failed  予測 = live  予測 = successful  \\\n",
       "正解 = canceled            13379        23510        316             1574   \n",
       "正解 = failed              76785       114864       1256             4814   \n",
       "正解 = live                 1017         1157         76              549   \n",
       "正解 = successful          10146            0          1           123809   \n",
       "正解 = suspended             468          985         19              374   \n",
       "正解 = undefined             805         1291         12             1454   \n",
       "\n",
       "                 予測 = suspended  予測 = undefined  \n",
       "正解 = canceled                 0               0  \n",
       "正解 = failed                   0               0  \n",
       "正解 = live                     0               0  \n",
       "正解 = successful               0               0  \n",
       "正解 = suspended                0               0  \n",
       "正解 = undefined                0               0  "
      ]
     },
     "metadata": {},
     "output_type": "display_data"
    },
    {
     "name": "stderr",
     "output_type": "stream",
     "text": [
      "/Users/kenjoushunsuke/anaconda3/lib/python3.7/site-packages/sklearn/linear_model/_stochastic_gradient.py:557: ConvergenceWarning: Maximum number of iteration reached before convergence. Consider increasing max_iter to improve the fit.\n",
      "  ConvergenceWarning)\n"
     ]
    },
    {
     "name": "stdout",
     "output_type": "stream",
     "text": [
      "正答率（Accuracy） = 54.493%\n"
     ]
    },
    {
     "name": "stderr",
     "output_type": "stream",
     "text": [
      "/Users/kenjoushunsuke/anaconda3/lib/python3.7/site-packages/sklearn/metrics/_classification.py:1272: UndefinedMetricWarning: Precision and F-score are ill-defined and being set to 0.0 in labels with no predicted samples. Use `zero_division` parameter to control this behavior.\n",
      "  _warn_prf(average, modifier, msg_start, len(result))\n"
     ]
    },
    {
     "name": "stdout",
     "output_type": "stream",
     "text": [
      "適合率（Precision） = 79.695%\n",
      "再現率（Recall） = 39.388%\n",
      "F1値（F1-score） = 52.720%\n"
     ]
    },
    {
     "data": {
      "text/html": [
       "<div>\n",
       "<style scoped>\n",
       "    .dataframe tbody tr th:only-of-type {\n",
       "        vertical-align: middle;\n",
       "    }\n",
       "\n",
       "    .dataframe tbody tr th {\n",
       "        vertical-align: top;\n",
       "    }\n",
       "\n",
       "    .dataframe thead th {\n",
       "        text-align: right;\n",
       "    }\n",
       "</style>\n",
       "<table border=\"1\" class=\"dataframe\">\n",
       "  <thead>\n",
       "    <tr style=\"text-align: right;\">\n",
       "      <th></th>\n",
       "      <th>予測 = canceled</th>\n",
       "      <th>予測 = failed</th>\n",
       "      <th>予測 = live</th>\n",
       "      <th>予測 = successful</th>\n",
       "      <th>予測 = suspended</th>\n",
       "      <th>予測 = undefined</th>\n",
       "    </tr>\n",
       "  </thead>\n",
       "  <tbody>\n",
       "    <tr>\n",
       "      <th>正解 = canceled</th>\n",
       "      <td>0</td>\n",
       "      <td>17181</td>\n",
       "      <td>20950</td>\n",
       "      <td>648</td>\n",
       "      <td>0</td>\n",
       "      <td>0</td>\n",
       "    </tr>\n",
       "    <tr>\n",
       "      <th>正解 = failed</th>\n",
       "      <td>0</td>\n",
       "      <td>77877</td>\n",
       "      <td>119839</td>\n",
       "      <td>3</td>\n",
       "      <td>0</td>\n",
       "      <td>0</td>\n",
       "    </tr>\n",
       "    <tr>\n",
       "      <th>正解 = live</th>\n",
       "      <td>0</td>\n",
       "      <td>864</td>\n",
       "      <td>1509</td>\n",
       "      <td>426</td>\n",
       "      <td>0</td>\n",
       "      <td>0</td>\n",
       "    </tr>\n",
       "    <tr>\n",
       "      <th>正解 = successful</th>\n",
       "      <td>0</td>\n",
       "      <td>0</td>\n",
       "      <td>6999</td>\n",
       "      <td>126957</td>\n",
       "      <td>0</td>\n",
       "      <td>0</td>\n",
       "    </tr>\n",
       "    <tr>\n",
       "      <th>正解 = suspended</th>\n",
       "      <td>0</td>\n",
       "      <td>790</td>\n",
       "      <td>776</td>\n",
       "      <td>280</td>\n",
       "      <td>0</td>\n",
       "      <td>0</td>\n",
       "    </tr>\n",
       "    <tr>\n",
       "      <th>正解 = undefined</th>\n",
       "      <td>0</td>\n",
       "      <td>1007</td>\n",
       "      <td>1044</td>\n",
       "      <td>1511</td>\n",
       "      <td>0</td>\n",
       "      <td>0</td>\n",
       "    </tr>\n",
       "  </tbody>\n",
       "</table>\n",
       "</div>"
      ],
      "text/plain": [
       "                 予測 = canceled  予測 = failed  予測 = live  予測 = successful  \\\n",
       "正解 = canceled                0        17181      20950              648   \n",
       "正解 = failed                  0        77877     119839                3   \n",
       "正解 = live                    0          864       1509              426   \n",
       "正解 = successful              0            0       6999           126957   \n",
       "正解 = suspended               0          790        776              280   \n",
       "正解 = undefined               0         1007       1044             1511   \n",
       "\n",
       "                 予測 = suspended  予測 = undefined  \n",
       "正解 = canceled                 0               0  \n",
       "正解 = failed                   0               0  \n",
       "正解 = live                     0               0  \n",
       "正解 = successful               0               0  \n",
       "正解 = suspended                0               0  \n",
       "正解 = undefined                0               0  "
      ]
     },
     "metadata": {},
     "output_type": "display_data"
    }
   ],
   "source": [
    "alphas = [1e-6, 1e-4, 1e-1]\n",
    "\n",
    "for alpha in alphas:\n",
    "\n",
    "    clf = SGDClassifier(\n",
    "        loss = \"log\",\n",
    "        penalty = \"l1\",\n",
    "        alpha = alpha,\n",
    "        max_iter = 10000,\n",
    "        fit_intercept=True,\n",
    "        random_state=1234,\n",
    "        tol=1e-3\n",
    "    )\n",
    "    \n",
    "    clf.fit(X_01, y)\n",
    "    y_pred = clf.predict(X_01)\n",
    "    evaluation(y, y_pred)"
   ]
  },
  {
   "cell_type": "markdown",
   "metadata": {},
   "source": [
    "### Lasso\n",
    "\n",
    "値を0とする係数が多くなるように正則化"
   ]
  },
  {
   "cell_type": "code",
   "execution_count": 60,
   "metadata": {},
   "outputs": [
    {
     "name": "stdout",
     "output_type": "stream",
     "text": [
      "正答率（Accuracy） = 60.723%\n"
     ]
    },
    {
     "name": "stderr",
     "output_type": "stream",
     "text": [
      "/Users/kenjoushunsuke/anaconda3/lib/python3.7/site-packages/sklearn/metrics/_classification.py:1272: UndefinedMetricWarning: Precision and F-score are ill-defined and being set to 0.0 in labels with no predicted samples. Use `zero_division` parameter to control this behavior.\n",
      "  _warn_prf(average, modifier, msg_start, len(result))\n"
     ]
    },
    {
     "name": "stdout",
     "output_type": "stream",
     "text": [
      "適合率（Precision） = 79.799%\n",
      "再現率（Recall） = 45.904%\n",
      "F1値（F1-score） = 58.281%\n"
     ]
    },
    {
     "data": {
      "text/html": [
       "<div>\n",
       "<style scoped>\n",
       "    .dataframe tbody tr th:only-of-type {\n",
       "        vertical-align: middle;\n",
       "    }\n",
       "\n",
       "    .dataframe tbody tr th {\n",
       "        vertical-align: top;\n",
       "    }\n",
       "\n",
       "    .dataframe thead th {\n",
       "        text-align: right;\n",
       "    }\n",
       "</style>\n",
       "<table border=\"1\" class=\"dataframe\">\n",
       "  <thead>\n",
       "    <tr style=\"text-align: right;\">\n",
       "      <th></th>\n",
       "      <th>予測 = canceled</th>\n",
       "      <th>予測 = failed</th>\n",
       "      <th>予測 = live</th>\n",
       "      <th>予測 = successful</th>\n",
       "      <th>予測 = suspended</th>\n",
       "      <th>予測 = undefined</th>\n",
       "    </tr>\n",
       "  </thead>\n",
       "  <tbody>\n",
       "    <tr>\n",
       "      <th>正解 = canceled</th>\n",
       "      <td>5272</td>\n",
       "      <td>19812</td>\n",
       "      <td>0</td>\n",
       "      <td>13691</td>\n",
       "      <td>0</td>\n",
       "      <td>4</td>\n",
       "    </tr>\n",
       "    <tr>\n",
       "      <th>正解 = failed</th>\n",
       "      <td>28322</td>\n",
       "      <td>90760</td>\n",
       "      <td>0</td>\n",
       "      <td>78637</td>\n",
       "      <td>0</td>\n",
       "      <td>0</td>\n",
       "    </tr>\n",
       "    <tr>\n",
       "      <th>正解 = live</th>\n",
       "      <td>266</td>\n",
       "      <td>1079</td>\n",
       "      <td>0</td>\n",
       "      <td>1451</td>\n",
       "      <td>0</td>\n",
       "      <td>3</td>\n",
       "    </tr>\n",
       "    <tr>\n",
       "      <th>正解 = successful</th>\n",
       "      <td>0</td>\n",
       "      <td>0</td>\n",
       "      <td>0</td>\n",
       "      <td>133904</td>\n",
       "      <td>0</td>\n",
       "      <td>52</td>\n",
       "    </tr>\n",
       "    <tr>\n",
       "      <th>正解 = suspended</th>\n",
       "      <td>137</td>\n",
       "      <td>927</td>\n",
       "      <td>0</td>\n",
       "      <td>782</td>\n",
       "      <td>0</td>\n",
       "      <td>0</td>\n",
       "    </tr>\n",
       "    <tr>\n",
       "      <th>正解 = undefined</th>\n",
       "      <td>266</td>\n",
       "      <td>1158</td>\n",
       "      <td>0</td>\n",
       "      <td>2138</td>\n",
       "      <td>0</td>\n",
       "      <td>0</td>\n",
       "    </tr>\n",
       "  </tbody>\n",
       "</table>\n",
       "</div>"
      ],
      "text/plain": [
       "                 予測 = canceled  予測 = failed  予測 = live  予測 = successful  \\\n",
       "正解 = canceled             5272        19812          0            13691   \n",
       "正解 = failed              28322        90760          0            78637   \n",
       "正解 = live                  266         1079          0             1451   \n",
       "正解 = successful              0            0          0           133904   \n",
       "正解 = suspended             137          927          0              782   \n",
       "正解 = undefined             266         1158          0             2138   \n",
       "\n",
       "                 予測 = suspended  予測 = undefined  \n",
       "正解 = canceled                 0               4  \n",
       "正解 = failed                   0               0  \n",
       "正解 = live                     0               3  \n",
       "正解 = successful               0              52  \n",
       "正解 = suspended                0               0  \n",
       "正解 = undefined                0               0  "
      ]
     },
     "metadata": {},
     "output_type": "display_data"
    },
    {
     "name": "stdout",
     "output_type": "stream",
     "text": [
      "正答率（Accuracy） = 48.577%\n"
     ]
    },
    {
     "name": "stderr",
     "output_type": "stream",
     "text": [
      "/Users/kenjoushunsuke/anaconda3/lib/python3.7/site-packages/sklearn/metrics/_classification.py:1272: UndefinedMetricWarning: Precision and F-score are ill-defined and being set to 0.0 in labels with no predicted samples. Use `zero_division` parameter to control this behavior.\n",
      "  _warn_prf(average, modifier, msg_start, len(result))\n"
     ]
    },
    {
     "name": "stdout",
     "output_type": "stream",
     "text": [
      "適合率（Precision） = 75.675%\n",
      "再現率（Recall） = 28.220%\n",
      "F1値（F1-score） = 41.110%\n"
     ]
    },
    {
     "data": {
      "text/html": [
       "<div>\n",
       "<style scoped>\n",
       "    .dataframe tbody tr th:only-of-type {\n",
       "        vertical-align: middle;\n",
       "    }\n",
       "\n",
       "    .dataframe tbody tr th {\n",
       "        vertical-align: top;\n",
       "    }\n",
       "\n",
       "    .dataframe thead th {\n",
       "        text-align: right;\n",
       "    }\n",
       "</style>\n",
       "<table border=\"1\" class=\"dataframe\">\n",
       "  <thead>\n",
       "    <tr style=\"text-align: right;\">\n",
       "      <th></th>\n",
       "      <th>予測 = canceled</th>\n",
       "      <th>予測 = failed</th>\n",
       "      <th>予測 = live</th>\n",
       "      <th>予測 = successful</th>\n",
       "      <th>予測 = suspended</th>\n",
       "      <th>予測 = undefined</th>\n",
       "    </tr>\n",
       "  </thead>\n",
       "  <tbody>\n",
       "    <tr>\n",
       "      <th>正解 = canceled</th>\n",
       "      <td>0</td>\n",
       "      <td>9218</td>\n",
       "      <td>1</td>\n",
       "      <td>880</td>\n",
       "      <td>28680</td>\n",
       "      <td>0</td>\n",
       "    </tr>\n",
       "    <tr>\n",
       "      <th>正解 = failed</th>\n",
       "      <td>0</td>\n",
       "      <td>55797</td>\n",
       "      <td>1</td>\n",
       "      <td>1108</td>\n",
       "      <td>140813</td>\n",
       "      <td>0</td>\n",
       "    </tr>\n",
       "    <tr>\n",
       "      <th>正解 = live</th>\n",
       "      <td>0</td>\n",
       "      <td>859</td>\n",
       "      <td>0</td>\n",
       "      <td>456</td>\n",
       "      <td>1484</td>\n",
       "      <td>0</td>\n",
       "    </tr>\n",
       "    <tr>\n",
       "      <th>正解 = successful</th>\n",
       "      <td>0</td>\n",
       "      <td>6953</td>\n",
       "      <td>0</td>\n",
       "      <td>127003</td>\n",
       "      <td>0</td>\n",
       "      <td>0</td>\n",
       "    </tr>\n",
       "    <tr>\n",
       "      <th>正解 = suspended</th>\n",
       "      <td>0</td>\n",
       "      <td>405</td>\n",
       "      <td>0</td>\n",
       "      <td>297</td>\n",
       "      <td>1144</td>\n",
       "      <td>0</td>\n",
       "    </tr>\n",
       "    <tr>\n",
       "      <th>正解 = undefined</th>\n",
       "      <td>0</td>\n",
       "      <td>500</td>\n",
       "      <td>0</td>\n",
       "      <td>1463</td>\n",
       "      <td>1599</td>\n",
       "      <td>0</td>\n",
       "    </tr>\n",
       "  </tbody>\n",
       "</table>\n",
       "</div>"
      ],
      "text/plain": [
       "                 予測 = canceled  予測 = failed  予測 = live  予測 = successful  \\\n",
       "正解 = canceled                0         9218          1              880   \n",
       "正解 = failed                  0        55797          1             1108   \n",
       "正解 = live                    0          859          0              456   \n",
       "正解 = successful              0         6953          0           127003   \n",
       "正解 = suspended               0          405          0              297   \n",
       "正解 = undefined               0          500          0             1463   \n",
       "\n",
       "                 予測 = suspended  予測 = undefined  \n",
       "正解 = canceled             28680               0  \n",
       "正解 = failed              140813               0  \n",
       "正解 = live                  1484               0  \n",
       "正解 = successful               0               0  \n",
       "正解 = suspended             1144               0  \n",
       "正解 = undefined             1599               0  "
      ]
     },
     "metadata": {},
     "output_type": "display_data"
    },
    {
     "name": "stdout",
     "output_type": "stream",
     "text": [
      "正答率（Accuracy） = 76.464%\n"
     ]
    },
    {
     "name": "stderr",
     "output_type": "stream",
     "text": [
      "/Users/kenjoushunsuke/anaconda3/lib/python3.7/site-packages/sklearn/metrics/_classification.py:1272: UndefinedMetricWarning: Precision and F-score are ill-defined and being set to 0.0 in labels with no predicted samples. Use `zero_division` parameter to control this behavior.\n",
      "  _warn_prf(average, modifier, msg_start, len(result))\n"
     ]
    },
    {
     "name": "stdout",
     "output_type": "stream",
     "text": [
      "適合率（Precision） = 78.582%\n",
      "再現率（Recall） = 83.008%\n",
      "F1値（F1-score） = 80.734%\n"
     ]
    },
    {
     "data": {
      "text/html": [
       "<div>\n",
       "<style scoped>\n",
       "    .dataframe tbody tr th:only-of-type {\n",
       "        vertical-align: middle;\n",
       "    }\n",
       "\n",
       "    .dataframe tbody tr th {\n",
       "        vertical-align: top;\n",
       "    }\n",
       "\n",
       "    .dataframe thead th {\n",
       "        text-align: right;\n",
       "    }\n",
       "</style>\n",
       "<table border=\"1\" class=\"dataframe\">\n",
       "  <thead>\n",
       "    <tr style=\"text-align: right;\">\n",
       "      <th></th>\n",
       "      <th>予測 = canceled</th>\n",
       "      <th>予測 = failed</th>\n",
       "      <th>予測 = live</th>\n",
       "      <th>予測 = successful</th>\n",
       "      <th>予測 = suspended</th>\n",
       "      <th>予測 = undefined</th>\n",
       "    </tr>\n",
       "  </thead>\n",
       "  <tbody>\n",
       "    <tr>\n",
       "      <th>正解 = canceled</th>\n",
       "      <td>0</td>\n",
       "      <td>31679</td>\n",
       "      <td>0</td>\n",
       "      <td>7094</td>\n",
       "      <td>0</td>\n",
       "      <td>6</td>\n",
       "    </tr>\n",
       "    <tr>\n",
       "      <th>正解 = failed</th>\n",
       "      <td>0</td>\n",
       "      <td>164123</td>\n",
       "      <td>0</td>\n",
       "      <td>33596</td>\n",
       "      <td>0</td>\n",
       "      <td>0</td>\n",
       "    </tr>\n",
       "    <tr>\n",
       "      <th>正解 = live</th>\n",
       "      <td>0</td>\n",
       "      <td>1579</td>\n",
       "      <td>0</td>\n",
       "      <td>1215</td>\n",
       "      <td>0</td>\n",
       "      <td>5</td>\n",
       "    </tr>\n",
       "    <tr>\n",
       "      <th>正解 = successful</th>\n",
       "      <td>0</td>\n",
       "      <td>8373</td>\n",
       "      <td>3</td>\n",
       "      <td>125415</td>\n",
       "      <td>0</td>\n",
       "      <td>165</td>\n",
       "    </tr>\n",
       "    <tr>\n",
       "      <th>正解 = suspended</th>\n",
       "      <td>0</td>\n",
       "      <td>1242</td>\n",
       "      <td>0</td>\n",
       "      <td>603</td>\n",
       "      <td>0</td>\n",
       "      <td>1</td>\n",
       "    </tr>\n",
       "    <tr>\n",
       "      <th>正解 = undefined</th>\n",
       "      <td>0</td>\n",
       "      <td>1860</td>\n",
       "      <td>0</td>\n",
       "      <td>1702</td>\n",
       "      <td>0</td>\n",
       "      <td>0</td>\n",
       "    </tr>\n",
       "  </tbody>\n",
       "</table>\n",
       "</div>"
      ],
      "text/plain": [
       "                 予測 = canceled  予測 = failed  予測 = live  予測 = successful  \\\n",
       "正解 = canceled                0        31679          0             7094   \n",
       "正解 = failed                  0       164123          0            33596   \n",
       "正解 = live                    0         1579          0             1215   \n",
       "正解 = successful              0         8373          3           125415   \n",
       "正解 = suspended               0         1242          0              603   \n",
       "正解 = undefined               0         1860          0             1702   \n",
       "\n",
       "                 予測 = suspended  予測 = undefined  \n",
       "正解 = canceled                 0               6  \n",
       "正解 = failed                   0               0  \n",
       "正解 = live                     0               5  \n",
       "正解 = successful               0             165  \n",
       "正解 = suspended                0               1  \n",
       "正解 = undefined                0               0  "
      ]
     },
     "metadata": {},
     "output_type": "display_data"
    }
   ],
   "source": [
    "alphas = [1e-6, 1e-4, 1e-1]\n",
    "\n",
    "for alpha in alphas:\n",
    "\n",
    "    clf = SGDClassifier(\n",
    "        loss = \"log\",\n",
    "        penalty = \"l2\",\n",
    "        alpha = alpha,\n",
    "        max_iter = 10000,\n",
    "        fit_intercept=True,\n",
    "        random_state=1234,\n",
    "        tol=1e-3\n",
    "    )\n",
    "    \n",
    "    clf.fit(X_01, y)\n",
    "    y_pred = clf.predict(X_01)\n",
    "    evaluation(y, y_pred)"
   ]
  },
  {
   "cell_type": "markdown",
   "metadata": {},
   "source": [
    "### ElasticNet\n",
    "\n",
    "RidgeとLassoを組み合わせたものであり、両者のバランスによって性質が決まる。"
   ]
  },
  {
   "cell_type": "code",
   "execution_count": 61,
   "metadata": {},
   "outputs": [
    {
     "name": "stdout",
     "output_type": "stream",
     "text": [
      "正答率（Accuracy） = 74.992%\n"
     ]
    },
    {
     "name": "stderr",
     "output_type": "stream",
     "text": [
      "/Users/kenjoushunsuke/anaconda3/lib/python3.7/site-packages/sklearn/metrics/_classification.py:1272: UndefinedMetricWarning: Precision and F-score are ill-defined and being set to 0.0 in labels with no predicted samples. Use `zero_division` parameter to control this behavior.\n",
      "  _warn_prf(average, modifier, msg_start, len(result))\n"
     ]
    },
    {
     "name": "stdout",
     "output_type": "stream",
     "text": [
      "適合率（Precision） = 81.158%\n",
      "再現率（Recall） = 75.851%\n",
      "F1値（F1-score） = 78.415%\n"
     ]
    },
    {
     "data": {
      "text/html": [
       "<div>\n",
       "<style scoped>\n",
       "    .dataframe tbody tr th:only-of-type {\n",
       "        vertical-align: middle;\n",
       "    }\n",
       "\n",
       "    .dataframe tbody tr th {\n",
       "        vertical-align: top;\n",
       "    }\n",
       "\n",
       "    .dataframe thead th {\n",
       "        text-align: right;\n",
       "    }\n",
       "</style>\n",
       "<table border=\"1\" class=\"dataframe\">\n",
       "  <thead>\n",
       "    <tr style=\"text-align: right;\">\n",
       "      <th></th>\n",
       "      <th>予測 = canceled</th>\n",
       "      <th>予測 = failed</th>\n",
       "      <th>予測 = live</th>\n",
       "      <th>予測 = successful</th>\n",
       "      <th>予測 = suspended</th>\n",
       "      <th>予測 = undefined</th>\n",
       "    </tr>\n",
       "  </thead>\n",
       "  <tbody>\n",
       "    <tr>\n",
       "      <th>正解 = canceled</th>\n",
       "      <td>0</td>\n",
       "      <td>30297</td>\n",
       "      <td>260</td>\n",
       "      <td>8222</td>\n",
       "      <td>0</td>\n",
       "      <td>0</td>\n",
       "    </tr>\n",
       "    <tr>\n",
       "      <th>正解 = failed</th>\n",
       "      <td>0</td>\n",
       "      <td>149972</td>\n",
       "      <td>1018</td>\n",
       "      <td>46729</td>\n",
       "      <td>0</td>\n",
       "      <td>0</td>\n",
       "    </tr>\n",
       "    <tr>\n",
       "      <th>正解 = live</th>\n",
       "      <td>0</td>\n",
       "      <td>1634</td>\n",
       "      <td>74</td>\n",
       "      <td>1091</td>\n",
       "      <td>0</td>\n",
       "      <td>0</td>\n",
       "    </tr>\n",
       "    <tr>\n",
       "      <th>正解 = successful</th>\n",
       "      <td>38</td>\n",
       "      <td>0</td>\n",
       "      <td>0</td>\n",
       "      <td>133918</td>\n",
       "      <td>0</td>\n",
       "      <td>0</td>\n",
       "    </tr>\n",
       "    <tr>\n",
       "      <th>正解 = suspended</th>\n",
       "      <td>1</td>\n",
       "      <td>1226</td>\n",
       "      <td>15</td>\n",
       "      <td>604</td>\n",
       "      <td>0</td>\n",
       "      <td>0</td>\n",
       "    </tr>\n",
       "    <tr>\n",
       "      <th>正解 = undefined</th>\n",
       "      <td>0</td>\n",
       "      <td>1661</td>\n",
       "      <td>11</td>\n",
       "      <td>1890</td>\n",
       "      <td>0</td>\n",
       "      <td>0</td>\n",
       "    </tr>\n",
       "  </tbody>\n",
       "</table>\n",
       "</div>"
      ],
      "text/plain": [
       "                 予測 = canceled  予測 = failed  予測 = live  予測 = successful  \\\n",
       "正解 = canceled                0        30297        260             8222   \n",
       "正解 = failed                  0       149972       1018            46729   \n",
       "正解 = live                    0         1634         74             1091   \n",
       "正解 = successful             38            0          0           133918   \n",
       "正解 = suspended               1         1226         15              604   \n",
       "正解 = undefined               0         1661         11             1890   \n",
       "\n",
       "                 予測 = suspended  予測 = undefined  \n",
       "正解 = canceled                 0               0  \n",
       "正解 = failed                   0               0  \n",
       "正解 = live                     0               0  \n",
       "正解 = successful               0               0  \n",
       "正解 = suspended                0               0  \n",
       "正解 = undefined                0               0  "
      ]
     },
     "metadata": {},
     "output_type": "display_data"
    },
    {
     "name": "stdout",
     "output_type": "stream",
     "text": [
      "正答率（Accuracy） = 79.741%\n"
     ]
    },
    {
     "name": "stderr",
     "output_type": "stream",
     "text": [
      "/Users/kenjoushunsuke/anaconda3/lib/python3.7/site-packages/sklearn/metrics/_classification.py:1272: UndefinedMetricWarning: Precision and F-score are ill-defined and being set to 0.0 in labels with no predicted samples. Use `zero_division` parameter to control this behavior.\n",
      "  _warn_prf(average, modifier, msg_start, len(result))\n"
     ]
    },
    {
     "name": "stdout",
     "output_type": "stream",
     "text": [
      "適合率（Precision） = 81.404%\n",
      "再現率（Recall） = 84.030%\n",
      "F1値（F1-score） = 82.696%\n"
     ]
    },
    {
     "data": {
      "text/html": [
       "<div>\n",
       "<style scoped>\n",
       "    .dataframe tbody tr th:only-of-type {\n",
       "        vertical-align: middle;\n",
       "    }\n",
       "\n",
       "    .dataframe tbody tr th {\n",
       "        vertical-align: top;\n",
       "    }\n",
       "\n",
       "    .dataframe thead th {\n",
       "        text-align: right;\n",
       "    }\n",
       "</style>\n",
       "<table border=\"1\" class=\"dataframe\">\n",
       "  <thead>\n",
       "    <tr style=\"text-align: right;\">\n",
       "      <th></th>\n",
       "      <th>予測 = canceled</th>\n",
       "      <th>予測 = failed</th>\n",
       "      <th>予測 = live</th>\n",
       "      <th>予測 = successful</th>\n",
       "      <th>予測 = suspended</th>\n",
       "      <th>予測 = undefined</th>\n",
       "    </tr>\n",
       "  </thead>\n",
       "  <tbody>\n",
       "    <tr>\n",
       "      <th>正解 = canceled</th>\n",
       "      <td>1544</td>\n",
       "      <td>33048</td>\n",
       "      <td>3371</td>\n",
       "      <td>816</td>\n",
       "      <td>0</td>\n",
       "      <td>0</td>\n",
       "    </tr>\n",
       "    <tr>\n",
       "      <th>正解 = failed</th>\n",
       "      <td>8870</td>\n",
       "      <td>166143</td>\n",
       "      <td>22478</td>\n",
       "      <td>228</td>\n",
       "      <td>0</td>\n",
       "      <td>0</td>\n",
       "    </tr>\n",
       "    <tr>\n",
       "      <th>正解 = live</th>\n",
       "      <td>221</td>\n",
       "      <td>1799</td>\n",
       "      <td>306</td>\n",
       "      <td>473</td>\n",
       "      <td>0</td>\n",
       "      <td>0</td>\n",
       "    </tr>\n",
       "    <tr>\n",
       "      <th>正解 = successful</th>\n",
       "      <td>1</td>\n",
       "      <td>0</td>\n",
       "      <td>0</td>\n",
       "      <td>133955</td>\n",
       "      <td>0</td>\n",
       "      <td>0</td>\n",
       "    </tr>\n",
       "    <tr>\n",
       "      <th>正解 = suspended</th>\n",
       "      <td>101</td>\n",
       "      <td>1312</td>\n",
       "      <td>119</td>\n",
       "      <td>314</td>\n",
       "      <td>0</td>\n",
       "      <td>0</td>\n",
       "    </tr>\n",
       "    <tr>\n",
       "      <th>正解 = undefined</th>\n",
       "      <td>14</td>\n",
       "      <td>1794</td>\n",
       "      <td>100</td>\n",
       "      <td>1654</td>\n",
       "      <td>0</td>\n",
       "      <td>0</td>\n",
       "    </tr>\n",
       "  </tbody>\n",
       "</table>\n",
       "</div>"
      ],
      "text/plain": [
       "                 予測 = canceled  予測 = failed  予測 = live  予測 = successful  \\\n",
       "正解 = canceled             1544        33048       3371              816   \n",
       "正解 = failed               8870       166143      22478              228   \n",
       "正解 = live                  221         1799        306              473   \n",
       "正解 = successful              1            0          0           133955   \n",
       "正解 = suspended             101         1312        119              314   \n",
       "正解 = undefined              14         1794        100             1654   \n",
       "\n",
       "                 予測 = suspended  予測 = undefined  \n",
       "正解 = canceled                 0               0  \n",
       "正解 = failed                   0               0  \n",
       "正解 = live                     0               0  \n",
       "正解 = successful               0               0  \n",
       "正解 = suspended                0               0  \n",
       "正解 = undefined                0               0  "
      ]
     },
     "metadata": {},
     "output_type": "display_data"
    },
    {
     "name": "stdout",
     "output_type": "stream",
     "text": [
      "正答率（Accuracy） = 61.644%\n"
     ]
    },
    {
     "name": "stderr",
     "output_type": "stream",
     "text": [
      "/Users/kenjoushunsuke/anaconda3/lib/python3.7/site-packages/sklearn/metrics/_classification.py:1272: UndefinedMetricWarning: Precision and F-score are ill-defined and being set to 0.0 in labels with no predicted samples. Use `zero_division` parameter to control this behavior.\n",
      "  _warn_prf(average, modifier, msg_start, len(result))\n"
     ]
    },
    {
     "name": "stdout",
     "output_type": "stream",
     "text": [
      "適合率（Precision） = 80.051%\n",
      "再現率（Recall） = 50.076%\n",
      "F1値（F1-score） = 61.611%\n"
     ]
    },
    {
     "data": {
      "text/html": [
       "<div>\n",
       "<style scoped>\n",
       "    .dataframe tbody tr th:only-of-type {\n",
       "        vertical-align: middle;\n",
       "    }\n",
       "\n",
       "    .dataframe tbody tr th {\n",
       "        vertical-align: top;\n",
       "    }\n",
       "\n",
       "    .dataframe thead th {\n",
       "        text-align: right;\n",
       "    }\n",
       "</style>\n",
       "<table border=\"1\" class=\"dataframe\">\n",
       "  <thead>\n",
       "    <tr style=\"text-align: right;\">\n",
       "      <th></th>\n",
       "      <th>予測 = canceled</th>\n",
       "      <th>予測 = failed</th>\n",
       "      <th>予測 = live</th>\n",
       "      <th>予測 = successful</th>\n",
       "      <th>予測 = suspended</th>\n",
       "      <th>予測 = undefined</th>\n",
       "    </tr>\n",
       "  </thead>\n",
       "  <tbody>\n",
       "    <tr>\n",
       "      <th>正解 = canceled</th>\n",
       "      <td>0</td>\n",
       "      <td>21313</td>\n",
       "      <td>14418</td>\n",
       "      <td>3033</td>\n",
       "      <td>15</td>\n",
       "      <td>0</td>\n",
       "    </tr>\n",
       "    <tr>\n",
       "      <th>正解 = failed</th>\n",
       "      <td>0</td>\n",
       "      <td>99010</td>\n",
       "      <td>85102</td>\n",
       "      <td>13549</td>\n",
       "      <td>58</td>\n",
       "      <td>0</td>\n",
       "    </tr>\n",
       "    <tr>\n",
       "      <th>正解 = live</th>\n",
       "      <td>0</td>\n",
       "      <td>1164</td>\n",
       "      <td>852</td>\n",
       "      <td>754</td>\n",
       "      <td>29</td>\n",
       "      <td>0</td>\n",
       "    </tr>\n",
       "    <tr>\n",
       "      <th>正解 = successful</th>\n",
       "      <td>0</td>\n",
       "      <td>0</td>\n",
       "      <td>0</td>\n",
       "      <td>133553</td>\n",
       "      <td>403</td>\n",
       "      <td>0</td>\n",
       "    </tr>\n",
       "    <tr>\n",
       "      <th>正解 = suspended</th>\n",
       "      <td>0</td>\n",
       "      <td>966</td>\n",
       "      <td>426</td>\n",
       "      <td>447</td>\n",
       "      <td>7</td>\n",
       "      <td>0</td>\n",
       "    </tr>\n",
       "    <tr>\n",
       "      <th>正解 = undefined</th>\n",
       "      <td>0</td>\n",
       "      <td>1231</td>\n",
       "      <td>652</td>\n",
       "      <td>1679</td>\n",
       "      <td>0</td>\n",
       "      <td>0</td>\n",
       "    </tr>\n",
       "  </tbody>\n",
       "</table>\n",
       "</div>"
      ],
      "text/plain": [
       "                 予測 = canceled  予測 = failed  予測 = live  予測 = successful  \\\n",
       "正解 = canceled                0        21313      14418             3033   \n",
       "正解 = failed                  0        99010      85102            13549   \n",
       "正解 = live                    0         1164        852              754   \n",
       "正解 = successful              0            0          0           133553   \n",
       "正解 = suspended               0          966        426              447   \n",
       "正解 = undefined               0         1231        652             1679   \n",
       "\n",
       "                 予測 = suspended  予測 = undefined  \n",
       "正解 = canceled                15               0  \n",
       "正解 = failed                  58               0  \n",
       "正解 = live                    29               0  \n",
       "正解 = successful             403               0  \n",
       "正解 = suspended                7               0  \n",
       "正解 = undefined                0               0  "
      ]
     },
     "metadata": {},
     "output_type": "display_data"
    }
   ],
   "source": [
    "l1_ratios = [0.15, 0.5, 0.85]\n",
    "\n",
    "for l1_ratio in l1_ratios:\n",
    "\n",
    "    clf = SGDClassifier(\n",
    "        loss = \"log\",\n",
    "        penalty = \"elasticnet\",\n",
    "        l1_ratio = l1_ratio,\n",
    "        max_iter = 10000,\n",
    "        fit_intercept=True,\n",
    "        random_state=1234,\n",
    "        tol=1e-3\n",
    "    )\n",
    "    \n",
    "    clf.fit(X_01, y)\n",
    "    y_pred = clf.predict(X_01)\n",
    "    evaluation(y, y_pred)"
   ]
  },
  {
   "cell_type": "markdown",
   "metadata": {},
   "source": [
    "- どの指標で評価すればいいかが難しい...(トレードオフのようになっている)\n",
    "- `ElasticNet`の`l1_ratio`が0.15か0.5がかなりうまく学習できている（l1とl2をうまく組み合わせるのが最適??l2が大きいとうまくいっていない...??）"
   ]
  },
  {
   "cell_type": "markdown",
   "metadata": {},
   "source": [
    "## 前処理（正規化・標準化・無相関化・白色化）\n",
    "\n",
    "正規化・標準化を行い、上で結果の良かった学習の設定を使ってみる"
   ]
  },
  {
   "cell_type": "code",
   "execution_count": 66,
   "metadata": {},
   "outputs": [
    {
     "name": "stdout",
     "output_type": "stream",
     "text": [
      "[[1.00000e+03 0.00000e+00 0.00000e+00 0.00000e+00 1.53395e+03]\n",
      " [3.00000e+04 2.42100e+03 1.50000e+01 2.42100e+03 3.00000e+04]\n",
      " [4.50000e+04 2.20000e+02 3.00000e+00 2.20000e+02 4.50000e+04]\n",
      " ...\n",
      " [1.50000e+04 2.00000e+01 1.00000e+00 2.00000e+01 1.50000e+04]\n",
      " [1.50000e+04 2.00000e+02 6.00000e+00 2.00000e+02 1.50000e+04]\n",
      " [2.00000e+03 5.24000e+02 1.70000e+01 5.24000e+02 2.00000e+03]]\n"
     ]
    }
   ],
   "source": [
    "np.set_printoptions(threshold=99)\n",
    "print(X_01)"
   ]
  },
  {
   "cell_type": "markdown",
   "metadata": {},
   "source": [
    "### 正規化"
   ]
  },
  {
   "cell_type": "code",
   "execution_count": 69,
   "metadata": {},
   "outputs": [
    {
     "name": "stdout",
     "output_type": "stream",
     "text": [
      "正答率（Accuracy） = 52.300%\n"
     ]
    },
    {
     "name": "stderr",
     "output_type": "stream",
     "text": [
      "/Users/kenjoushunsuke/anaconda3/lib/python3.7/site-packages/sklearn/metrics/_classification.py:1272: UndefinedMetricWarning: Precision and F-score are ill-defined and being set to 0.0 in labels with no predicted samples. Use `zero_division` parameter to control this behavior.\n",
      "  _warn_prf(average, modifier, msg_start, len(result))\n"
     ]
    },
    {
     "name": "stdout",
     "output_type": "stream",
     "text": [
      "適合率（Precision） = 52.260%\n",
      "再現率（Recall） = 100.000%\n",
      "F1値（F1-score） = 68.645%\n"
     ]
    },
    {
     "data": {
      "text/html": [
       "<div>\n",
       "<style scoped>\n",
       "    .dataframe tbody tr th:only-of-type {\n",
       "        vertical-align: middle;\n",
       "    }\n",
       "\n",
       "    .dataframe tbody tr th {\n",
       "        vertical-align: top;\n",
       "    }\n",
       "\n",
       "    .dataframe thead th {\n",
       "        text-align: right;\n",
       "    }\n",
       "</style>\n",
       "<table border=\"1\" class=\"dataframe\">\n",
       "  <thead>\n",
       "    <tr style=\"text-align: right;\">\n",
       "      <th></th>\n",
       "      <th>予測 = canceled</th>\n",
       "      <th>予測 = failed</th>\n",
       "      <th>予測 = live</th>\n",
       "      <th>予測 = successful</th>\n",
       "      <th>予測 = suspended</th>\n",
       "      <th>予測 = undefined</th>\n",
       "    </tr>\n",
       "  </thead>\n",
       "  <tbody>\n",
       "    <tr>\n",
       "      <th>正解 = canceled</th>\n",
       "      <td>0</td>\n",
       "      <td>38778</td>\n",
       "      <td>0</td>\n",
       "      <td>1</td>\n",
       "      <td>0</td>\n",
       "      <td>0</td>\n",
       "    </tr>\n",
       "    <tr>\n",
       "      <th>正解 = failed</th>\n",
       "      <td>0</td>\n",
       "      <td>197719</td>\n",
       "      <td>0</td>\n",
       "      <td>0</td>\n",
       "      <td>0</td>\n",
       "      <td>0</td>\n",
       "    </tr>\n",
       "    <tr>\n",
       "      <th>正解 = live</th>\n",
       "      <td>0</td>\n",
       "      <td>2799</td>\n",
       "      <td>0</td>\n",
       "      <td>0</td>\n",
       "      <td>0</td>\n",
       "      <td>0</td>\n",
       "    </tr>\n",
       "    <tr>\n",
       "      <th>正解 = successful</th>\n",
       "      <td>0</td>\n",
       "      <td>133637</td>\n",
       "      <td>0</td>\n",
       "      <td>319</td>\n",
       "      <td>0</td>\n",
       "      <td>0</td>\n",
       "    </tr>\n",
       "    <tr>\n",
       "      <th>正解 = suspended</th>\n",
       "      <td>0</td>\n",
       "      <td>1845</td>\n",
       "      <td>0</td>\n",
       "      <td>1</td>\n",
       "      <td>0</td>\n",
       "      <td>0</td>\n",
       "    </tr>\n",
       "    <tr>\n",
       "      <th>正解 = undefined</th>\n",
       "      <td>0</td>\n",
       "      <td>3562</td>\n",
       "      <td>0</td>\n",
       "      <td>0</td>\n",
       "      <td>0</td>\n",
       "      <td>0</td>\n",
       "    </tr>\n",
       "  </tbody>\n",
       "</table>\n",
       "</div>"
      ],
      "text/plain": [
       "                 予測 = canceled  予測 = failed  予測 = live  予測 = successful  \\\n",
       "正解 = canceled                0        38778          0                1   \n",
       "正解 = failed                  0       197719          0                0   \n",
       "正解 = live                    0         2799          0                0   \n",
       "正解 = successful              0       133637          0              319   \n",
       "正解 = suspended               0         1845          0                1   \n",
       "正解 = undefined               0         3562          0                0   \n",
       "\n",
       "                 予測 = suspended  予測 = undefined  \n",
       "正解 = canceled                 0               0  \n",
       "正解 = failed                   0               0  \n",
       "正解 = live                     0               0  \n",
       "正解 = successful               0               0  \n",
       "正解 = suspended                0               0  \n",
       "正解 = undefined                0               0  "
      ]
     },
     "metadata": {},
     "output_type": "display_data"
    }
   ],
   "source": [
    "from sklearn.preprocessing import MinMaxScaler\n",
    "\n",
    "normsc = MinMaxScaler()\n",
    "X_02 = normsc.fit_transform(X_01)\n",
    "\n",
    "clf = SGDClassifier(\n",
    "    loss = \"log\",\n",
    "    penalty = \"elasticnet\",\n",
    "    l1_ratio = 0.5,\n",
    "    max_iter = 10000,\n",
    "    fit_intercept=True,\n",
    "    random_state=1234,\n",
    "    tol=1e-3\n",
    ")\n",
    "\n",
    "clf.fit(X_02, y)\n",
    "y_pred = clf.predict(X_02)\n",
    "evaluation(y, y_pred)"
   ]
  },
  {
   "cell_type": "markdown",
   "metadata": {},
   "source": [
    "### 標準化"
   ]
  },
  {
   "cell_type": "code",
   "execution_count": 22,
   "metadata": {},
   "outputs": [
    {
     "name": "stdout",
     "output_type": "stream",
     "text": [
      "正答率（Accuracy） = 71.028%\n"
     ]
    },
    {
     "name": "stderr",
     "output_type": "stream",
     "text": [
      "/Users/kenjoushunsuke/anaconda3/lib/python3.7/site-packages/sklearn/metrics/_classification.py:1272: UndefinedMetricWarning: Precision and F-score are ill-defined and being set to 0.0 in labels with no predicted samples. Use `zero_division` parameter to control this behavior.\n",
      "  _warn_prf(average, modifier, msg_start, len(result))\n"
     ]
    },
    {
     "name": "stdout",
     "output_type": "stream",
     "text": [
      "適合率（Precision） = 65.945%\n",
      "再現率（Recall） = 95.621%\n",
      "F1値（F1-score） = 78.057%\n"
     ]
    },
    {
     "data": {
      "text/html": [
       "<div>\n",
       "<style scoped>\n",
       "    .dataframe tbody tr th:only-of-type {\n",
       "        vertical-align: middle;\n",
       "    }\n",
       "\n",
       "    .dataframe tbody tr th {\n",
       "        vertical-align: top;\n",
       "    }\n",
       "\n",
       "    .dataframe thead th {\n",
       "        text-align: right;\n",
       "    }\n",
       "</style>\n",
       "<table border=\"1\" class=\"dataframe\">\n",
       "  <thead>\n",
       "    <tr style=\"text-align: right;\">\n",
       "      <th></th>\n",
       "      <th>予測 = canceled</th>\n",
       "      <th>予測 = failed</th>\n",
       "      <th>予測 = live</th>\n",
       "      <th>予測 = successful</th>\n",
       "      <th>予測 = suspended</th>\n",
       "      <th>予測 = undefined</th>\n",
       "    </tr>\n",
       "  </thead>\n",
       "  <tbody>\n",
       "    <tr>\n",
       "      <th>正解 = canceled</th>\n",
       "      <td>77</td>\n",
       "      <td>35992</td>\n",
       "      <td>9</td>\n",
       "      <td>2699</td>\n",
       "      <td>2</td>\n",
       "      <td>0</td>\n",
       "    </tr>\n",
       "    <tr>\n",
       "      <th>正解 = failed</th>\n",
       "      <td>159</td>\n",
       "      <td>189061</td>\n",
       "      <td>7</td>\n",
       "      <td>8488</td>\n",
       "      <td>4</td>\n",
       "      <td>0</td>\n",
       "    </tr>\n",
       "    <tr>\n",
       "      <th>正解 = live</th>\n",
       "      <td>4</td>\n",
       "      <td>2395</td>\n",
       "      <td>1</td>\n",
       "      <td>399</td>\n",
       "      <td>0</td>\n",
       "      <td>0</td>\n",
       "    </tr>\n",
       "    <tr>\n",
       "      <th>正解 = successful</th>\n",
       "      <td>0</td>\n",
       "      <td>54139</td>\n",
       "      <td>0</td>\n",
       "      <td>79817</td>\n",
       "      <td>0</td>\n",
       "      <td>0</td>\n",
       "    </tr>\n",
       "    <tr>\n",
       "      <th>正解 = suspended</th>\n",
       "      <td>1</td>\n",
       "      <td>1548</td>\n",
       "      <td>0</td>\n",
       "      <td>297</td>\n",
       "      <td>0</td>\n",
       "      <td>0</td>\n",
       "    </tr>\n",
       "    <tr>\n",
       "      <th>正解 = undefined</th>\n",
       "      <td>0</td>\n",
       "      <td>3561</td>\n",
       "      <td>0</td>\n",
       "      <td>1</td>\n",
       "      <td>0</td>\n",
       "      <td>0</td>\n",
       "    </tr>\n",
       "  </tbody>\n",
       "</table>\n",
       "</div>"
      ],
      "text/plain": [
       "                 予測 = canceled  予測 = failed  予測 = live  予測 = successful  \\\n",
       "正解 = canceled               77        35992          9             2699   \n",
       "正解 = failed                159       189061          7             8488   \n",
       "正解 = live                    4         2395          1              399   \n",
       "正解 = successful              0        54139          0            79817   \n",
       "正解 = suspended               1         1548          0              297   \n",
       "正解 = undefined               0         3561          0                1   \n",
       "\n",
       "                 予測 = suspended  予測 = undefined  \n",
       "正解 = canceled                 2               0  \n",
       "正解 = failed                   4               0  \n",
       "正解 = live                     0               0  \n",
       "正解 = successful               0               0  \n",
       "正解 = suspended                0               0  \n",
       "正解 = undefined                0               0  "
      ]
     },
     "metadata": {},
     "output_type": "display_data"
    }
   ],
   "source": [
    "from sklearn.preprocessing import StandardScaler\n",
    "\n",
    "stdsc = StandardScaler()\n",
    "X_03 = stdsc.fit_transform(X_01)\n",
    "\n",
    "clf = SGDClassifier(\n",
    "    loss = \"log\",\n",
    "    penalty = \"elasticnet\",\n",
    "    l1_ratio = 0.5,\n",
    "    max_iter = 10000,\n",
    "    fit_intercept=True,\n",
    "    random_state=1234,\n",
    "    tol=1e-3\n",
    ")\n",
    "\n",
    "clf.fit(X_03, y)\n",
    "y_pred = clf.predict(X_03)\n",
    "evaluation(y, y_pred)"
   ]
  },
  {
   "cell_type": "markdown",
   "metadata": {},
   "source": [
    "再現率はかなり高くなっているが、他はあまり変わっていない...(むしろ下がった？)"
   ]
  },
  {
   "cell_type": "markdown",
   "metadata": {},
   "source": [
    "### 無相関化"
   ]
  },
  {
   "cell_type": "markdown",
   "metadata": {},
   "source": [
    "それぞれのデータの相関関係を調べる"
   ]
  },
  {
   "cell_type": "code",
   "execution_count": 12,
   "metadata": {},
   "outputs": [
    {
     "data": {
      "text/plain": [
       "array([[1.00000e+03, 0.00000e+00, 0.00000e+00, 0.00000e+00, 1.53395e+03],\n",
       "       [3.00000e+04, 2.42100e+03, 1.50000e+01, 2.42100e+03, 3.00000e+04],\n",
       "       [4.50000e+04, 2.20000e+02, 3.00000e+00, 2.20000e+02, 4.50000e+04],\n",
       "       ...,\n",
       "       [1.50000e+04, 2.00000e+01, 1.00000e+00, 2.00000e+01, 1.50000e+04],\n",
       "       [1.50000e+04, 2.00000e+02, 6.00000e+00, 2.00000e+02, 1.50000e+04],\n",
       "       [2.00000e+03, 5.24000e+02, 1.70000e+01, 5.24000e+02, 2.00000e+03]])"
      ]
     },
     "metadata": {},
     "output_type": "display_data"
    }
   ],
   "source": [
    "import seaborn as sns\n",
    "\n",
    "display(X_01)"
   ]
  },
  {
   "cell_type": "code",
   "execution_count": 15,
   "metadata": {},
   "outputs": [
    {
     "data": {
      "text/html": [
       "<div>\n",
       "<style scoped>\n",
       "    .dataframe tbody tr th:only-of-type {\n",
       "        vertical-align: middle;\n",
       "    }\n",
       "\n",
       "    .dataframe tbody tr th {\n",
       "        vertical-align: top;\n",
       "    }\n",
       "\n",
       "    .dataframe thead th {\n",
       "        text-align: right;\n",
       "    }\n",
       "</style>\n",
       "<table border=\"1\" class=\"dataframe\">\n",
       "  <thead>\n",
       "    <tr style=\"text-align: right;\">\n",
       "      <th></th>\n",
       "      <th>goal</th>\n",
       "      <th>pledged</th>\n",
       "      <th>backers</th>\n",
       "      <th>usd_pledged_real</th>\n",
       "      <th>usd_goal_real</th>\n",
       "    </tr>\n",
       "  </thead>\n",
       "  <tbody>\n",
       "    <tr>\n",
       "      <th>0</th>\n",
       "      <td>1000.0</td>\n",
       "      <td>0.0</td>\n",
       "      <td>0.0</td>\n",
       "      <td>0.0</td>\n",
       "      <td>1533.95</td>\n",
       "    </tr>\n",
       "    <tr>\n",
       "      <th>1</th>\n",
       "      <td>30000.0</td>\n",
       "      <td>2421.0</td>\n",
       "      <td>15.0</td>\n",
       "      <td>2421.0</td>\n",
       "      <td>30000.00</td>\n",
       "    </tr>\n",
       "    <tr>\n",
       "      <th>2</th>\n",
       "      <td>45000.0</td>\n",
       "      <td>220.0</td>\n",
       "      <td>3.0</td>\n",
       "      <td>220.0</td>\n",
       "      <td>45000.00</td>\n",
       "    </tr>\n",
       "    <tr>\n",
       "      <th>3</th>\n",
       "      <td>5000.0</td>\n",
       "      <td>1.0</td>\n",
       "      <td>1.0</td>\n",
       "      <td>1.0</td>\n",
       "      <td>5000.00</td>\n",
       "    </tr>\n",
       "    <tr>\n",
       "      <th>4</th>\n",
       "      <td>19500.0</td>\n",
       "      <td>1283.0</td>\n",
       "      <td>14.0</td>\n",
       "      <td>1283.0</td>\n",
       "      <td>19500.00</td>\n",
       "    </tr>\n",
       "    <tr>\n",
       "      <th>...</th>\n",
       "      <td>...</td>\n",
       "      <td>...</td>\n",
       "      <td>...</td>\n",
       "      <td>...</td>\n",
       "      <td>...</td>\n",
       "    </tr>\n",
       "    <tr>\n",
       "      <th>378656</th>\n",
       "      <td>50000.0</td>\n",
       "      <td>25.0</td>\n",
       "      <td>1.0</td>\n",
       "      <td>25.0</td>\n",
       "      <td>50000.00</td>\n",
       "    </tr>\n",
       "    <tr>\n",
       "      <th>378657</th>\n",
       "      <td>1500.0</td>\n",
       "      <td>155.0</td>\n",
       "      <td>5.0</td>\n",
       "      <td>155.0</td>\n",
       "      <td>1500.00</td>\n",
       "    </tr>\n",
       "    <tr>\n",
       "      <th>378658</th>\n",
       "      <td>15000.0</td>\n",
       "      <td>20.0</td>\n",
       "      <td>1.0</td>\n",
       "      <td>20.0</td>\n",
       "      <td>15000.00</td>\n",
       "    </tr>\n",
       "    <tr>\n",
       "      <th>378659</th>\n",
       "      <td>15000.0</td>\n",
       "      <td>200.0</td>\n",
       "      <td>6.0</td>\n",
       "      <td>200.0</td>\n",
       "      <td>15000.00</td>\n",
       "    </tr>\n",
       "    <tr>\n",
       "      <th>378660</th>\n",
       "      <td>2000.0</td>\n",
       "      <td>524.0</td>\n",
       "      <td>17.0</td>\n",
       "      <td>524.0</td>\n",
       "      <td>2000.00</td>\n",
       "    </tr>\n",
       "  </tbody>\n",
       "</table>\n",
       "<p>378661 rows × 5 columns</p>\n",
       "</div>"
      ],
      "text/plain": [
       "           goal  pledged  backers  usd_pledged_real  usd_goal_real\n",
       "0        1000.0      0.0      0.0               0.0        1533.95\n",
       "1       30000.0   2421.0     15.0            2421.0       30000.00\n",
       "2       45000.0    220.0      3.0             220.0       45000.00\n",
       "3        5000.0      1.0      1.0               1.0        5000.00\n",
       "4       19500.0   1283.0     14.0            1283.0       19500.00\n",
       "...         ...      ...      ...               ...            ...\n",
       "378656  50000.0     25.0      1.0              25.0       50000.00\n",
       "378657   1500.0    155.0      5.0             155.0        1500.00\n",
       "378658  15000.0     20.0      1.0              20.0       15000.00\n",
       "378659  15000.0    200.0      6.0             200.0       15000.00\n",
       "378660   2000.0    524.0     17.0             524.0        2000.00\n",
       "\n",
       "[378661 rows x 5 columns]"
      ]
     },
     "execution_count": 15,
     "metadata": {},
     "output_type": "execute_result"
    }
   ],
   "source": [
    "x01_df = pd.DataFrame(X_01, columns=[\"goal\", \"pledged\", \"backers\", \"usd_pledged_real\", \"usd_goal_real\"])\n",
    "x01_df"
   ]
  },
  {
   "cell_type": "code",
   "execution_count": 16,
   "metadata": {},
   "outputs": [
    {
     "data": {
      "text/plain": [
       "<matplotlib.axes._subplots.AxesSubplot at 0x7fcda5593e10>"
      ]
     },
     "execution_count": 16,
     "metadata": {},
     "output_type": "execute_result"
    },
    {
     "data": {
      "image/png": "[encoded data removed]",
      "text/plain": [
       "<Figure size 432x288 with 2 Axes>"
      ]
     },
     "metadata": {
      "needs_background": "light"
     },
     "output_type": "display_data"
    }
   ],
   "source": [
    "corr = x01_df.corr()\n",
    "\n",
    "sns.heatmap(corr, annot=True)"
   ]
  },
  {
   "cell_type": "markdown",
   "metadata": {},
   "source": [
    "`usd_pledged_real`と`pledged`、`usd_goal_real`と`goal`に高い相関性が見られる（データの詳細はよくわからないが、USドルに変換したものっぽい？？）"
   ]
  },
  {
   "cell_type": "code",
   "execution_count": 20,
   "metadata": {},
   "outputs": [
    {
     "data": {
      "text/plain": [
       "<matplotlib.axes._subplots.AxesSubplot at 0x7fcda5718a50>"
      ]
     },
     "execution_count": 20,
     "metadata": {},
     "output_type": "execute_result"
    },
    {
     "data": {
      "image/png": "[encoded data removed]",
      "text/plain": [
       "<Figure size 432x288 with 2 Axes>"
      ]
     },
     "metadata": {
      "needs_background": "light"
     },
     "output_type": "display_data"
    }
   ],
   "source": [
    "cov = np.cov(X_01, rowvar=0) # 分散・共分散を求める\n",
    "_, S = np.linalg.eig(cov)           # 分散共分散行列の固有ベクトルを用いて\n",
    "X01_decorr = np.dot(S.T, X_01.T).T #データを無相関化\n",
    "\n",
    "X01_decorr_df = pd.DataFrame(X01_decorr, columns=[\"goal\", \"pledged\", \"backers\", \"usd_pledged_real\", \"usd_goal_real\"])\n",
    "\n",
    "corr = X01_decorr_df.corr()\n",
    "\n",
    "sns.heatmap(corr, annot=True)"
   ]
  },
  {
   "cell_type": "markdown",
   "metadata": {},
   "source": [
    "びっくりするくらい相関関係がなくなっている...！！"
   ]
  },
  {
   "cell_type": "markdown",
   "metadata": {},
   "source": [
    "### 白色化"
   ]
  },
  {
   "cell_type": "code",
   "execution_count": 23,
   "metadata": {},
   "outputs": [
    {
     "name": "stdout",
     "output_type": "stream",
     "text": [
      "正答率（Accuracy） = 70.106%\n"
     ]
    },
    {
     "name": "stderr",
     "output_type": "stream",
     "text": [
      "/Users/kenjoushunsuke/anaconda3/lib/python3.7/site-packages/sklearn/metrics/_classification.py:1272: UndefinedMetricWarning: Precision and F-score are ill-defined and being set to 0.0 in labels with no predicted samples. Use `zero_division` parameter to control this behavior.\n",
      "  _warn_prf(average, modifier, msg_start, len(result))\n"
     ]
    },
    {
     "name": "stdout",
     "output_type": "stream",
     "text": [
      "適合率（Precision） = 65.192%\n",
      "再現率（Recall） = 95.519%\n",
      "F1値（F1-score） = 77.494%\n"
     ]
    },
    {
     "data": {
      "text/html": [
       "<div>\n",
       "<style scoped>\n",
       "    .dataframe tbody tr th:only-of-type {\n",
       "        vertical-align: middle;\n",
       "    }\n",
       "\n",
       "    .dataframe tbody tr th {\n",
       "        vertical-align: top;\n",
       "    }\n",
       "\n",
       "    .dataframe thead th {\n",
       "        text-align: right;\n",
       "    }\n",
       "</style>\n",
       "<table border=\"1\" class=\"dataframe\">\n",
       "  <thead>\n",
       "    <tr style=\"text-align: right;\">\n",
       "      <th></th>\n",
       "      <th>予測 = canceled</th>\n",
       "      <th>予測 = failed</th>\n",
       "      <th>予測 = live</th>\n",
       "      <th>予測 = successful</th>\n",
       "      <th>予測 = suspended</th>\n",
       "      <th>予測 = undefined</th>\n",
       "    </tr>\n",
       "  </thead>\n",
       "  <tbody>\n",
       "    <tr>\n",
       "      <th>正解 = canceled</th>\n",
       "      <td>37</td>\n",
       "      <td>35918</td>\n",
       "      <td>6</td>\n",
       "      <td>2818</td>\n",
       "      <td>0</td>\n",
       "      <td>0</td>\n",
       "    </tr>\n",
       "    <tr>\n",
       "      <th>正解 = failed</th>\n",
       "      <td>63</td>\n",
       "      <td>188860</td>\n",
       "      <td>3</td>\n",
       "      <td>8793</td>\n",
       "      <td>0</td>\n",
       "      <td>0</td>\n",
       "    </tr>\n",
       "    <tr>\n",
       "      <th>正解 = live</th>\n",
       "      <td>2</td>\n",
       "      <td>2416</td>\n",
       "      <td>1</td>\n",
       "      <td>380</td>\n",
       "      <td>0</td>\n",
       "      <td>0</td>\n",
       "    </tr>\n",
       "    <tr>\n",
       "      <th>正解 = successful</th>\n",
       "      <td>0</td>\n",
       "      <td>57389</td>\n",
       "      <td>0</td>\n",
       "      <td>76567</td>\n",
       "      <td>0</td>\n",
       "      <td>0</td>\n",
       "    </tr>\n",
       "    <tr>\n",
       "      <th>正解 = suspended</th>\n",
       "      <td>1</td>\n",
       "      <td>1553</td>\n",
       "      <td>0</td>\n",
       "      <td>292</td>\n",
       "      <td>0</td>\n",
       "      <td>0</td>\n",
       "    </tr>\n",
       "    <tr>\n",
       "      <th>正解 = undefined</th>\n",
       "      <td>0</td>\n",
       "      <td>3562</td>\n",
       "      <td>0</td>\n",
       "      <td>0</td>\n",
       "      <td>0</td>\n",
       "      <td>0</td>\n",
       "    </tr>\n",
       "  </tbody>\n",
       "</table>\n",
       "</div>"
      ],
      "text/plain": [
       "                 予測 = canceled  予測 = failed  予測 = live  予測 = successful  \\\n",
       "正解 = canceled               37        35918          6             2818   \n",
       "正解 = failed                 63       188860          3             8793   \n",
       "正解 = live                    2         2416          1              380   \n",
       "正解 = successful              0        57389          0            76567   \n",
       "正解 = suspended               1         1553          0              292   \n",
       "正解 = undefined               0         3562          0                0   \n",
       "\n",
       "                 予測 = suspended  予測 = undefined  \n",
       "正解 = canceled                 0               0  \n",
       "正解 = failed                   0               0  \n",
       "正解 = live                     0               0  \n",
       "正解 = successful               0               0  \n",
       "正解 = suspended                0               0  \n",
       "正解 = undefined                0               0  "
      ]
     },
     "metadata": {},
     "output_type": "display_data"
    }
   ],
   "source": [
    "stdsc = StandardScaler()\n",
    "stdsc.fit(X01_decorr)\n",
    "\n",
    "# 無相関化したデータに対して、さらに標準化\n",
    "data1_whitening  = stdsc.transform(X01_decorr)\n",
    "\n",
    "clf = SGDClassifier(\n",
    "    loss = \"log\",\n",
    "    penalty = \"elasticnet\",\n",
    "    l1_ratio = 0.5,\n",
    "    max_iter = 10000,\n",
    "    fit_intercept=True,\n",
    "    random_state=1234,\n",
    "    tol=1e-3\n",
    ")\n",
    "\n",
    "clf.fit(data1_whitening, y)\n",
    "y_pred = clf.predict(data1_whitening)\n",
    "evaluation(y, y_pred)"
   ]
  },
  {
   "cell_type": "markdown",
   "metadata": {},
   "source": [
    "汎化誤差も見てみる"
   ]
  },
  {
   "cell_type": "code",
   "execution_count": 24,
   "metadata": {},
   "outputs": [
    {
     "name": "stdout",
     "output_type": "stream",
     "text": [
      "正答率（Accuracy） = 70.128%\n"
     ]
    },
    {
     "name": "stderr",
     "output_type": "stream",
     "text": [
      "/Users/kenjoushunsuke/anaconda3/lib/python3.7/site-packages/sklearn/metrics/_classification.py:1272: UndefinedMetricWarning: Precision and F-score are ill-defined and being set to 0.0 in labels with no predicted samples. Use `zero_division` parameter to control this behavior.\n",
      "  _warn_prf(average, modifier, msg_start, len(result))\n"
     ]
    },
    {
     "name": "stdout",
     "output_type": "stream",
     "text": [
      "適合率（Precision） = 65.186%\n",
      "再現率（Recall） = 95.496%\n",
      "F1値（F1-score） = 77.482%\n"
     ]
    },
    {
     "data": {
      "text/html": [
       "<div>\n",
       "<style scoped>\n",
       "    .dataframe tbody tr th:only-of-type {\n",
       "        vertical-align: middle;\n",
       "    }\n",
       "\n",
       "    .dataframe tbody tr th {\n",
       "        vertical-align: top;\n",
       "    }\n",
       "\n",
       "    .dataframe thead th {\n",
       "        text-align: right;\n",
       "    }\n",
       "</style>\n",
       "<table border=\"1\" class=\"dataframe\">\n",
       "  <thead>\n",
       "    <tr style=\"text-align: right;\">\n",
       "      <th></th>\n",
       "      <th>予測 = canceled</th>\n",
       "      <th>予測 = failed</th>\n",
       "      <th>予測 = live</th>\n",
       "      <th>予測 = successful</th>\n",
       "      <th>予測 = suspended</th>\n",
       "      <th>予測 = undefined</th>\n",
       "    </tr>\n",
       "  </thead>\n",
       "  <tbody>\n",
       "    <tr>\n",
       "      <th>正解 = canceled</th>\n",
       "      <td>30</td>\n",
       "      <td>28759</td>\n",
       "      <td>0</td>\n",
       "      <td>2252</td>\n",
       "      <td>6</td>\n",
       "      <td>0</td>\n",
       "    </tr>\n",
       "    <tr>\n",
       "      <th>正解 = failed</th>\n",
       "      <td>54</td>\n",
       "      <td>150894</td>\n",
       "      <td>0</td>\n",
       "      <td>7062</td>\n",
       "      <td>0</td>\n",
       "      <td>0</td>\n",
       "    </tr>\n",
       "    <tr>\n",
       "      <th>正解 = live</th>\n",
       "      <td>1</td>\n",
       "      <td>1956</td>\n",
       "      <td>0</td>\n",
       "      <td>294</td>\n",
       "      <td>1</td>\n",
       "      <td>0</td>\n",
       "    </tr>\n",
       "    <tr>\n",
       "      <th>正解 = successful</th>\n",
       "      <td>0</td>\n",
       "      <td>45794</td>\n",
       "      <td>0</td>\n",
       "      <td>61512</td>\n",
       "      <td>0</td>\n",
       "      <td>0</td>\n",
       "    </tr>\n",
       "    <tr>\n",
       "      <th>正解 = suspended</th>\n",
       "      <td>0</td>\n",
       "      <td>1227</td>\n",
       "      <td>0</td>\n",
       "      <td>233</td>\n",
       "      <td>0</td>\n",
       "      <td>0</td>\n",
       "    </tr>\n",
       "    <tr>\n",
       "      <th>正解 = undefined</th>\n",
       "      <td>0</td>\n",
       "      <td>2853</td>\n",
       "      <td>0</td>\n",
       "      <td>0</td>\n",
       "      <td>0</td>\n",
       "      <td>0</td>\n",
       "    </tr>\n",
       "  </tbody>\n",
       "</table>\n",
       "</div>"
      ],
      "text/plain": [
       "                 予測 = canceled  予測 = failed  予測 = live  予測 = successful  \\\n",
       "正解 = canceled               30        28759          0             2252   \n",
       "正解 = failed                 54       150894          0             7062   \n",
       "正解 = live                    1         1956          0              294   \n",
       "正解 = successful              0        45794          0            61512   \n",
       "正解 = suspended               0         1227          0              233   \n",
       "正解 = undefined               0         2853          0                0   \n",
       "\n",
       "                 予測 = suspended  予測 = undefined  \n",
       "正解 = canceled                 6               0  \n",
       "正解 = failed                   0               0  \n",
       "正解 = live                     1               0  \n",
       "正解 = successful               0               0  \n",
       "正解 = suspended                0               0  \n",
       "正解 = undefined                0               0  "
      ]
     },
     "metadata": {},
     "output_type": "display_data"
    }
   ],
   "source": [
    "from sklearn.model_selection import train_test_split\n",
    "\n",
    "test_size = 0.2\n",
    "X_train, X_test, y_train, y_test = train_test_split(data1_whitening, y, test_size=test_size, random_state=1234) \n",
    "\n",
    "clf.fit(X_train, y_train)\n",
    "\n",
    "# 訓練データで予測\n",
    "y_pred_train = clf.predict(X_train)\n",
    "\n",
    "evaluation(y_train, y_pred_train)"
   ]
  },
  {
   "cell_type": "code",
   "execution_count": 25,
   "metadata": {
    "scrolled": true
   },
   "outputs": [
    {
     "name": "stdout",
     "output_type": "stream",
     "text": [
      "正答率（Accuracy） = 70.092%\n",
      "適合率（Precision） = 65.306%\n",
      "再現率（Recall） = 95.522%\n",
      "F1値（F1-score） = 77.576%\n"
     ]
    },
    {
     "name": "stderr",
     "output_type": "stream",
     "text": [
      "/Users/kenjoushunsuke/anaconda3/lib/python3.7/site-packages/sklearn/metrics/_classification.py:1272: UndefinedMetricWarning: Precision and F-score are ill-defined and being set to 0.0 in labels with no predicted samples. Use `zero_division` parameter to control this behavior.\n",
      "  _warn_prf(average, modifier, msg_start, len(result))\n"
     ]
    },
    {
     "data": {
      "text/html": [
       "<div>\n",
       "<style scoped>\n",
       "    .dataframe tbody tr th:only-of-type {\n",
       "        vertical-align: middle;\n",
       "    }\n",
       "\n",
       "    .dataframe tbody tr th {\n",
       "        vertical-align: top;\n",
       "    }\n",
       "\n",
       "    .dataframe thead th {\n",
       "        text-align: right;\n",
       "    }\n",
       "</style>\n",
       "<table border=\"1\" class=\"dataframe\">\n",
       "  <thead>\n",
       "    <tr style=\"text-align: right;\">\n",
       "      <th></th>\n",
       "      <th>予測 = canceled</th>\n",
       "      <th>予測 = failed</th>\n",
       "      <th>予測 = live</th>\n",
       "      <th>予測 = successful</th>\n",
       "      <th>予測 = suspended</th>\n",
       "      <th>予測 = undefined</th>\n",
       "    </tr>\n",
       "  </thead>\n",
       "  <tbody>\n",
       "    <tr>\n",
       "      <th>正解 = canceled</th>\n",
       "      <td>7</td>\n",
       "      <td>7151</td>\n",
       "      <td>0</td>\n",
       "      <td>574</td>\n",
       "      <td>0</td>\n",
       "      <td>0</td>\n",
       "    </tr>\n",
       "    <tr>\n",
       "      <th>正解 = failed</th>\n",
       "      <td>13</td>\n",
       "      <td>37931</td>\n",
       "      <td>0</td>\n",
       "      <td>1763</td>\n",
       "      <td>2</td>\n",
       "      <td>0</td>\n",
       "    </tr>\n",
       "    <tr>\n",
       "      <th>正解 = live</th>\n",
       "      <td>1</td>\n",
       "      <td>459</td>\n",
       "      <td>0</td>\n",
       "      <td>87</td>\n",
       "      <td>0</td>\n",
       "      <td>0</td>\n",
       "    </tr>\n",
       "    <tr>\n",
       "      <th>正解 = successful</th>\n",
       "      <td>0</td>\n",
       "      <td>11505</td>\n",
       "      <td>0</td>\n",
       "      <td>15145</td>\n",
       "      <td>0</td>\n",
       "      <td>0</td>\n",
       "    </tr>\n",
       "    <tr>\n",
       "      <th>正解 = suspended</th>\n",
       "      <td>0</td>\n",
       "      <td>327</td>\n",
       "      <td>0</td>\n",
       "      <td>59</td>\n",
       "      <td>0</td>\n",
       "      <td>0</td>\n",
       "    </tr>\n",
       "    <tr>\n",
       "      <th>正解 = undefined</th>\n",
       "      <td>0</td>\n",
       "      <td>709</td>\n",
       "      <td>0</td>\n",
       "      <td>0</td>\n",
       "      <td>0</td>\n",
       "      <td>0</td>\n",
       "    </tr>\n",
       "  </tbody>\n",
       "</table>\n",
       "</div>"
      ],
      "text/plain": [
       "                 予測 = canceled  予測 = failed  予測 = live  予測 = successful  \\\n",
       "正解 = canceled                7         7151          0              574   \n",
       "正解 = failed                 13        37931          0             1763   \n",
       "正解 = live                    1          459          0               87   \n",
       "正解 = successful              0        11505          0            15145   \n",
       "正解 = suspended               0          327          0               59   \n",
       "正解 = undefined               0          709          0                0   \n",
       "\n",
       "                 予測 = suspended  予測 = undefined  \n",
       "正解 = canceled                 0               0  \n",
       "正解 = failed                   2               0  \n",
       "正解 = live                     0               0  \n",
       "正解 = successful               0               0  \n",
       "正解 = suspended                0               0  \n",
       "正解 = undefined                0               0  "
      ]
     },
     "metadata": {},
     "output_type": "display_data"
    }
   ],
   "source": [
    "y_pred_test = clf.predict(X_test)\n",
    "\n",
    "evaluation(y_test, y_pred_test)"
   ]
  },
  {
   "cell_type": "markdown",
   "metadata": {},
   "source": [
    "前処理を行っていない場合に比べて、汎化誤差がかなり向上している!!"
   ]
  },
  {
   "cell_type": "markdown",
   "metadata": {},
   "source": [
    "## DAY3\n",
    "\n",
    "DAY2同様、DAY1と結果を比較"
   ]
  },
  {
   "cell_type": "markdown",
   "metadata": {},
   "source": [
    "### 特徴選択（フィルタ法）"
   ]
  },
  {
   "cell_type": "markdown",
   "metadata": {},
   "source": [
    "無相関化で似た処理を行ったのでここではskip"
   ]
  },
  {
   "cell_type": "markdown",
   "metadata": {},
   "source": [
    "### 特徴選択（ラッパー法）"
   ]
  },
  {
   "cell_type": "code",
   "execution_count": 28,
   "metadata": {},
   "outputs": [
    {
     "data": {
      "text/plain": [
       "RFECV(cv=10,\n",
       "      estimator=SGDClassifier(alpha=0.0001, average=False, class_weight=None,\n",
       "                              early_stopping=False, epsilon=0.1, eta0=0.0,\n",
       "                              fit_intercept=True, l1_ratio=0.5,\n",
       "                              learning_rate='optimal', loss='log',\n",
       "                              max_iter=10000, n_iter_no_change=5, n_jobs=None,\n",
       "                              penalty='elasticnet', power_t=0.5,\n",
       "                              random_state=1234, shuffle=True, tol=0.001,\n",
       "                              validation_fraction=0.1, verbose=0,\n",
       "                              warm_start=False),\n",
       "      min_features_to_select=1, n_jobs=None, scoring='accuracy', step=1,\n",
       "      verbose=0)"
      ]
     },
     "execution_count": 28,
     "metadata": {},
     "output_type": "execute_result"
    }
   ],
   "source": [
    "from sklearn.feature_selection import RFECV\n",
    "\n",
    "estimator = SGDClassifier(\n",
    "    loss = \"log\",\n",
    "    penalty = \"elasticnet\",\n",
    "    l1_ratio = 0.5,\n",
    "    max_iter = 10000,\n",
    "    fit_intercept=True,\n",
    "    random_state=1234,\n",
    "    tol=1e-3\n",
    ")\n",
    "\n",
    "# 分類なのでaccuracyを採用\n",
    "rfecv = RFECV(estimator, cv=10, scoring='accuracy')\n",
    "\n",
    "rfecv.fit(X_01, y)"
   ]
  },
  {
   "cell_type": "markdown",
   "metadata": {},
   "source": [
    "- 計算負荷がかなり高い...!!"
   ]
  },
  {
   "cell_type": "code",
   "execution_count": 29,
   "metadata": {},
   "outputs": [
    {
     "name": "stdout",
     "output_type": "stream",
     "text": [
      "Feature ranking: \n",
      "[1 1 2 1 1]\n"
     ]
    }
   ],
   "source": [
    "# 特徴のランキングを表示（1が最も重要な特徴）\n",
    "print('Feature ranking: \\n{}'.format(rfecv.ranking_))"
   ]
  },
  {
   "cell_type": "code",
   "execution_count": 30,
   "metadata": {},
   "outputs": [
    {
     "data": {
      "image/png": "[encoded data removed]",
      "text/plain": [
       "<Figure size 432x288 with 1 Axes>"
      ]
     },
     "metadata": {
      "needs_background": "light"
     },
     "output_type": "display_data"
    }
   ],
   "source": [
    "# 特徴数とスコアの変化をプロット\n",
    "plt.plot(range(1, len(rfecv.grid_scores_) + 1), rfecv.grid_scores_)\n",
    "plt.show()"
   ]
  },
  {
   "cell_type": "code",
   "execution_count": 31,
   "metadata": {},
   "outputs": [
    {
     "data": {
      "text/plain": [
       "array([ True,  True, False,  True,  True])"
      ]
     },
     "execution_count": 31,
     "metadata": {},
     "output_type": "execute_result"
    }
   ],
   "source": [
    "# rfecv.support_でランキング1位以外はFalseとするindexを取得できる\n",
    "# Trueになっている特徴を使用すれば汎化誤差は最小となる\n",
    "rfecv.support_\n",
    "\n",
    "# 上の図で4付近で最大になっているのと一致することを確認"
   ]
  },
  {
   "cell_type": "code",
   "execution_count": 32,
   "metadata": {},
   "outputs": [
    {
     "data": {
      "text/plain": [
       "array([False, False,  True, False, False])"
      ]
     },
     "execution_count": 32,
     "metadata": {},
     "output_type": "execute_result"
    }
   ],
   "source": [
    "# bool型の配列に ~ をつけるとTrueとFalseを反転させることができる\n",
    "# ここでTrueになっている特徴が削除してもよい特徴\n",
    "remove_idx = ~rfecv.support_\n",
    "remove_idx"
   ]
  },
  {
   "cell_type": "code",
   "execution_count": 36,
   "metadata": {},
   "outputs": [
    {
     "data": {
      "text/plain": [
       "Index(['backers'], dtype='object')"
      ]
     },
     "execution_count": 36,
     "metadata": {},
     "output_type": "execute_result"
    }
   ],
   "source": [
    "# 削除してもよい特徴の名前を取得する\n",
    "remove_feature = pd.DataFrame (X_01, columns=[\"goal\", \"pledged\", \"backers\", \"usd_pledged_real\", \"usd_goal_real\"]).columns[remove_idx]\n",
    "remove_feature"
   ]
  },
  {
   "cell_type": "code",
   "execution_count": 39,
   "metadata": {},
   "outputs": [
    {
     "data": {
      "text/html": [
       "<div>\n",
       "<style scoped>\n",
       "    .dataframe tbody tr th:only-of-type {\n",
       "        vertical-align: middle;\n",
       "    }\n",
       "\n",
       "    .dataframe tbody tr th {\n",
       "        vertical-align: top;\n",
       "    }\n",
       "\n",
       "    .dataframe thead th {\n",
       "        text-align: right;\n",
       "    }\n",
       "</style>\n",
       "<table border=\"1\" class=\"dataframe\">\n",
       "  <thead>\n",
       "    <tr style=\"text-align: right;\">\n",
       "      <th></th>\n",
       "      <th>goal</th>\n",
       "      <th>pledged</th>\n",
       "      <th>usd_pledged_real</th>\n",
       "      <th>usd_goal_real</th>\n",
       "    </tr>\n",
       "  </thead>\n",
       "  <tbody>\n",
       "    <tr>\n",
       "      <th>0</th>\n",
       "      <td>1000.0</td>\n",
       "      <td>0.0</td>\n",
       "      <td>0.0</td>\n",
       "      <td>1533.95</td>\n",
       "    </tr>\n",
       "    <tr>\n",
       "      <th>1</th>\n",
       "      <td>30000.0</td>\n",
       "      <td>2421.0</td>\n",
       "      <td>2421.0</td>\n",
       "      <td>30000.00</td>\n",
       "    </tr>\n",
       "    <tr>\n",
       "      <th>2</th>\n",
       "      <td>45000.0</td>\n",
       "      <td>220.0</td>\n",
       "      <td>220.0</td>\n",
       "      <td>45000.00</td>\n",
       "    </tr>\n",
       "    <tr>\n",
       "      <th>3</th>\n",
       "      <td>5000.0</td>\n",
       "      <td>1.0</td>\n",
       "      <td>1.0</td>\n",
       "      <td>5000.00</td>\n",
       "    </tr>\n",
       "    <tr>\n",
       "      <th>4</th>\n",
       "      <td>19500.0</td>\n",
       "      <td>1283.0</td>\n",
       "      <td>1283.0</td>\n",
       "      <td>19500.00</td>\n",
       "    </tr>\n",
       "    <tr>\n",
       "      <th>...</th>\n",
       "      <td>...</td>\n",
       "      <td>...</td>\n",
       "      <td>...</td>\n",
       "      <td>...</td>\n",
       "    </tr>\n",
       "    <tr>\n",
       "      <th>378656</th>\n",
       "      <td>50000.0</td>\n",
       "      <td>25.0</td>\n",
       "      <td>25.0</td>\n",
       "      <td>50000.00</td>\n",
       "    </tr>\n",
       "    <tr>\n",
       "      <th>378657</th>\n",
       "      <td>1500.0</td>\n",
       "      <td>155.0</td>\n",
       "      <td>155.0</td>\n",
       "      <td>1500.00</td>\n",
       "    </tr>\n",
       "    <tr>\n",
       "      <th>378658</th>\n",
       "      <td>15000.0</td>\n",
       "      <td>20.0</td>\n",
       "      <td>20.0</td>\n",
       "      <td>15000.00</td>\n",
       "    </tr>\n",
       "    <tr>\n",
       "      <th>378659</th>\n",
       "      <td>15000.0</td>\n",
       "      <td>200.0</td>\n",
       "      <td>200.0</td>\n",
       "      <td>15000.00</td>\n",
       "    </tr>\n",
       "    <tr>\n",
       "      <th>378660</th>\n",
       "      <td>2000.0</td>\n",
       "      <td>524.0</td>\n",
       "      <td>524.0</td>\n",
       "      <td>2000.00</td>\n",
       "    </tr>\n",
       "  </tbody>\n",
       "</table>\n",
       "<p>378661 rows × 4 columns</p>\n",
       "</div>"
      ],
      "text/plain": [
       "           goal  pledged  usd_pledged_real  usd_goal_real\n",
       "0        1000.0      0.0               0.0        1533.95\n",
       "1       30000.0   2421.0            2421.0       30000.00\n",
       "2       45000.0    220.0             220.0       45000.00\n",
       "3        5000.0      1.0               1.0        5000.00\n",
       "4       19500.0   1283.0            1283.0       19500.00\n",
       "...         ...      ...               ...            ...\n",
       "378656  50000.0     25.0              25.0       50000.00\n",
       "378657   1500.0    155.0             155.0        1500.00\n",
       "378658  15000.0     20.0              20.0       15000.00\n",
       "378659  15000.0    200.0             200.0       15000.00\n",
       "378660   2000.0    524.0             524.0        2000.00\n",
       "\n",
       "[378661 rows x 4 columns]"
      ]
     },
     "execution_count": 39,
     "metadata": {},
     "output_type": "execute_result"
    }
   ],
   "source": [
    "# drop関数で特徴を削除\n",
    "selected_train_data = pd.DataFrame (X_01, columns=[\"goal\", \"pledged\", \"backers\", \"usd_pledged_real\", \"usd_goal_real\"]).drop(remove_feature, axis=1)\n",
    "selected_train_data"
   ]
  },
  {
   "cell_type": "code",
   "execution_count": 40,
   "metadata": {},
   "outputs": [
    {
     "name": "stdout",
     "output_type": "stream",
     "text": [
      "正答率（Accuracy） = 84.104%\n"
     ]
    },
    {
     "name": "stderr",
     "output_type": "stream",
     "text": [
      "/Users/kenjoushunsuke/anaconda3/lib/python3.7/site-packages/sklearn/metrics/_classification.py:1272: UndefinedMetricWarning: Precision and F-score are ill-defined and being set to 0.0 in labels with no predicted samples. Use `zero_division` parameter to control this behavior.\n",
      "  _warn_prf(average, modifier, msg_start, len(result))\n"
     ]
    },
    {
     "name": "stdout",
     "output_type": "stream",
     "text": [
      "適合率（Precision） = 81.686%\n",
      "再現率（Recall） = 92.030%\n",
      "F1値（F1-score） = 86.550%\n"
     ]
    },
    {
     "data": {
      "text/html": [
       "<div>\n",
       "<style scoped>\n",
       "    .dataframe tbody tr th:only-of-type {\n",
       "        vertical-align: middle;\n",
       "    }\n",
       "\n",
       "    .dataframe tbody tr th {\n",
       "        vertical-align: top;\n",
       "    }\n",
       "\n",
       "    .dataframe thead th {\n",
       "        text-align: right;\n",
       "    }\n",
       "</style>\n",
       "<table border=\"1\" class=\"dataframe\">\n",
       "  <thead>\n",
       "    <tr style=\"text-align: right;\">\n",
       "      <th></th>\n",
       "      <th>予測 = canceled</th>\n",
       "      <th>予測 = failed</th>\n",
       "      <th>予測 = live</th>\n",
       "      <th>予測 = successful</th>\n",
       "      <th>予測 = suspended</th>\n",
       "      <th>予測 = undefined</th>\n",
       "    </tr>\n",
       "  </thead>\n",
       "  <tbody>\n",
       "    <tr>\n",
       "      <th>正解 = canceled</th>\n",
       "      <td>2053</td>\n",
       "      <td>28380</td>\n",
       "      <td>0</td>\n",
       "      <td>614</td>\n",
       "      <td>0</td>\n",
       "      <td>0</td>\n",
       "    </tr>\n",
       "    <tr>\n",
       "      <th>正解 = failed</th>\n",
       "      <td>12505</td>\n",
       "      <td>145416</td>\n",
       "      <td>0</td>\n",
       "      <td>89</td>\n",
       "      <td>0</td>\n",
       "      <td>0</td>\n",
       "    </tr>\n",
       "    <tr>\n",
       "      <th>正解 = live</th>\n",
       "      <td>278</td>\n",
       "      <td>1619</td>\n",
       "      <td>0</td>\n",
       "      <td>355</td>\n",
       "      <td>0</td>\n",
       "      <td>0</td>\n",
       "    </tr>\n",
       "    <tr>\n",
       "      <th>正解 = successful</th>\n",
       "      <td>1</td>\n",
       "      <td>0</td>\n",
       "      <td>0</td>\n",
       "      <td>107305</td>\n",
       "      <td>0</td>\n",
       "      <td>0</td>\n",
       "    </tr>\n",
       "    <tr>\n",
       "      <th>正解 = suspended</th>\n",
       "      <td>117</td>\n",
       "      <td>1106</td>\n",
       "      <td>0</td>\n",
       "      <td>237</td>\n",
       "      <td>0</td>\n",
       "      <td>0</td>\n",
       "    </tr>\n",
       "    <tr>\n",
       "      <th>正解 = undefined</th>\n",
       "      <td>24</td>\n",
       "      <td>1497</td>\n",
       "      <td>0</td>\n",
       "      <td>1332</td>\n",
       "      <td>0</td>\n",
       "      <td>0</td>\n",
       "    </tr>\n",
       "  </tbody>\n",
       "</table>\n",
       "</div>"
      ],
      "text/plain": [
       "                 予測 = canceled  予測 = failed  予測 = live  予測 = successful  \\\n",
       "正解 = canceled             2053        28380          0              614   \n",
       "正解 = failed              12505       145416          0               89   \n",
       "正解 = live                  278         1619          0              355   \n",
       "正解 = successful              1            0          0           107305   \n",
       "正解 = suspended             117         1106          0              237   \n",
       "正解 = undefined              24         1497          0             1332   \n",
       "\n",
       "                 予測 = suspended  予測 = undefined  \n",
       "正解 = canceled                 0               0  \n",
       "正解 = failed                   0               0  \n",
       "正解 = live                     0               0  \n",
       "正解 = successful               0               0  \n",
       "正解 = suspended                0               0  \n",
       "正解 = undefined                0               0  "
      ]
     },
     "metadata": {},
     "output_type": "display_data"
    }
   ],
   "source": [
    "from sklearn.model_selection import train_test_split\n",
    "\n",
    "test_size = 0.2\n",
    "X_train, X_test, y_train, y_test = train_test_split(selected_train_data, y, test_size=test_size, random_state=1234) \n",
    "\n",
    "clf.fit(X_train, y_train)\n",
    "\n",
    "# 訓練データで予測\n",
    "y_pred_train = clf.predict(X_train)\n",
    "\n",
    "evaluation(y_train, y_pred_train)"
   ]
  },
  {
   "cell_type": "code",
   "execution_count": 41,
   "metadata": {},
   "outputs": [
    {
     "name": "stdout",
     "output_type": "stream",
     "text": [
      "正答率（Accuracy） = 84.176%\n",
      "適合率（Precision） = 81.862%\n",
      "再現率（Recall） = 92.130%\n",
      "F1値（F1-score） = 86.693%\n"
     ]
    },
    {
     "name": "stderr",
     "output_type": "stream",
     "text": [
      "/Users/kenjoushunsuke/anaconda3/lib/python3.7/site-packages/sklearn/metrics/_classification.py:1272: UndefinedMetricWarning: Precision and F-score are ill-defined and being set to 0.0 in labels with no predicted samples. Use `zero_division` parameter to control this behavior.\n",
      "  _warn_prf(average, modifier, msg_start, len(result))\n"
     ]
    },
    {
     "data": {
      "text/html": [
       "<div>\n",
       "<style scoped>\n",
       "    .dataframe tbody tr th:only-of-type {\n",
       "        vertical-align: middle;\n",
       "    }\n",
       "\n",
       "    .dataframe tbody tr th {\n",
       "        vertical-align: top;\n",
       "    }\n",
       "\n",
       "    .dataframe thead th {\n",
       "        text-align: right;\n",
       "    }\n",
       "</style>\n",
       "<table border=\"1\" class=\"dataframe\">\n",
       "  <thead>\n",
       "    <tr style=\"text-align: right;\">\n",
       "      <th></th>\n",
       "      <th>予測 = canceled</th>\n",
       "      <th>予測 = failed</th>\n",
       "      <th>予測 = live</th>\n",
       "      <th>予測 = successful</th>\n",
       "      <th>予測 = suspended</th>\n",
       "      <th>予測 = undefined</th>\n",
       "    </tr>\n",
       "  </thead>\n",
       "  <tbody>\n",
       "    <tr>\n",
       "      <th>正解 = canceled</th>\n",
       "      <td>515</td>\n",
       "      <td>7066</td>\n",
       "      <td>0</td>\n",
       "      <td>151</td>\n",
       "      <td>0</td>\n",
       "      <td>0</td>\n",
       "    </tr>\n",
       "    <tr>\n",
       "      <th>正解 = failed</th>\n",
       "      <td>3096</td>\n",
       "      <td>36584</td>\n",
       "      <td>0</td>\n",
       "      <td>29</td>\n",
       "      <td>0</td>\n",
       "      <td>0</td>\n",
       "    </tr>\n",
       "    <tr>\n",
       "      <th>正解 = live</th>\n",
       "      <td>62</td>\n",
       "      <td>381</td>\n",
       "      <td>0</td>\n",
       "      <td>104</td>\n",
       "      <td>0</td>\n",
       "      <td>0</td>\n",
       "    </tr>\n",
       "    <tr>\n",
       "      <th>正解 = successful</th>\n",
       "      <td>0</td>\n",
       "      <td>0</td>\n",
       "      <td>0</td>\n",
       "      <td>26650</td>\n",
       "      <td>0</td>\n",
       "      <td>0</td>\n",
       "    </tr>\n",
       "    <tr>\n",
       "      <th>正解 = suspended</th>\n",
       "      <td>37</td>\n",
       "      <td>278</td>\n",
       "      <td>0</td>\n",
       "      <td>71</td>\n",
       "      <td>0</td>\n",
       "      <td>0</td>\n",
       "    </tr>\n",
       "    <tr>\n",
       "      <th>正解 = undefined</th>\n",
       "      <td>6</td>\n",
       "      <td>381</td>\n",
       "      <td>0</td>\n",
       "      <td>322</td>\n",
       "      <td>0</td>\n",
       "      <td>0</td>\n",
       "    </tr>\n",
       "  </tbody>\n",
       "</table>\n",
       "</div>"
      ],
      "text/plain": [
       "                 予測 = canceled  予測 = failed  予測 = live  予測 = successful  \\\n",
       "正解 = canceled              515         7066          0              151   \n",
       "正解 = failed               3096        36584          0               29   \n",
       "正解 = live                   62          381          0              104   \n",
       "正解 = successful              0            0          0            26650   \n",
       "正解 = suspended              37          278          0               71   \n",
       "正解 = undefined               6          381          0              322   \n",
       "\n",
       "                 予測 = suspended  予測 = undefined  \n",
       "正解 = canceled                 0               0  \n",
       "正解 = failed                   0               0  \n",
       "正解 = live                     0               0  \n",
       "正解 = successful               0               0  \n",
       "正解 = suspended                0               0  \n",
       "正解 = undefined                0               0  "
      ]
     },
     "metadata": {},
     "output_type": "display_data"
    }
   ],
   "source": [
    "y_pred_test = clf.predict(X_test)\n",
    "\n",
    "evaluation(y_test, y_pred_test)"
   ]
  },
  {
   "cell_type": "markdown",
   "metadata": {},
   "source": [
    "想像以上によくなっている"
   ]
  },
  {
   "cell_type": "markdown",
   "metadata": {},
   "source": [
    "### 特徴選択（埋め込み法）"
   ]
  },
  {
   "cell_type": "code",
   "execution_count": 44,
   "metadata": {},
   "outputs": [
    {
     "data": {
      "text/plain": [
       "SelectFromModel(estimator=SGDClassifier(alpha=0.0001, average=False,\n",
       "                                        class_weight=None, early_stopping=False,\n",
       "                                        epsilon=0.1, eta0=0.0,\n",
       "                                        fit_intercept=True, l1_ratio=0.5,\n",
       "                                        learning_rate='optimal', loss='log',\n",
       "                                        max_iter=10000, n_iter_no_change=5,\n",
       "                                        n_jobs=None, penalty='elasticnet',\n",
       "                                        power_t=0.5, random_state=1234,\n",
       "                                        shuffle=True, tol=0.001,\n",
       "                                        validation_fraction=0.1, verbose=0,\n",
       "                                        warm_start=False),\n",
       "                max_features=None, norm_order=1, prefit=False, threshold=0.001)"
      ]
     },
     "execution_count": 44,
     "metadata": {},
     "output_type": "execute_result"
    }
   ],
   "source": [
    "from sklearn.feature_selection import SelectFromModel\n",
    "\n",
    "sfm = SelectFromModel(estimator, threshold=1e-3)\n",
    "\n",
    "sfm.fit(X_01, y)"
   ]
  },
  {
   "cell_type": "code",
   "execution_count": 43,
   "metadata": {},
   "outputs": [
    {
     "data": {
      "text/plain": [
       "array([ True,  True,  True,  True,  True])"
      ]
     },
     "execution_count": 43,
     "metadata": {},
     "output_type": "execute_result"
    }
   ],
   "source": [
    "# get_support関数で使用する特徴のインデックスを使用\n",
    "# Trueになっている特徴が使用する特徴\n",
    "sfm.get_support()"
   ]
  },
  {
   "cell_type": "markdown",
   "metadata": {},
   "source": []
  }
 ],
 "metadata": {
  "kernelspec": {
   "display_name": "Python 3",
   "language": "python",
   "name": "python3"
  },
  "language_info": {
   "codemirror_mode": {
    "name": "ipython",
    "version": 3
   },
   "file_extension": ".py",
   "mimetype": "text/x-python",
   "name": "python",
   "nbconvert_exporter": "python",
   "pygments_lexer": "ipython3",
   "version": "3.7.6"
  }
 },
 "nbformat": 4,
 "nbformat_minor": 4
}
